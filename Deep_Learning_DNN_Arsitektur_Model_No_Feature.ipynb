{
  "cells": [
    {
      "cell_type": "code",
      "execution_count": 1,
      "metadata": {
        "id": "D9OcnSrYU_Pk"
      },
      "outputs": [],
      "source": [
        "import pandas as pd\n",
        "import numpy as np"
      ]
    },
    {
      "cell_type": "code",
      "execution_count": 2,
      "metadata": {
        "id": "FNkvGLjge8wF"
      },
      "outputs": [],
      "source": [
        "file_path = r'C:\\Users\\Lenovo\\Documents\\KULIAH\\semester 6\\Analisis Sinyal Biomedis\\all feature & labelling.csv'\n",
        "df = pd.read_csv(file_path, header=None, sep =\";\")\n",
        "df = df.apply(pd.to_numeric, errors='coerce')\n",
        "df = df.dropna()"
      ]
    },
    {
      "cell_type": "code",
      "execution_count": 4,
      "metadata": {
        "colab": {
          "base_uri": "https://localhost:8080/"
        },
        "id": "iIrQYrSQe9qM",
        "outputId": "689d4876-fb0e-4bfe-ee39-7d7c0ab74da1"
      },
      "outputs": [
        {
          "name": "stdout",
          "output_type": "stream",
          "text": [
            "(24297, 3)\n",
            "(24297,)\n"
          ]
        }
      ],
      "source": [
        "from sklearn.model_selection import train_test_split\n",
        "from sklearn.preprocessing import StandardScaler\n",
        "x = df.iloc[:,:3].copy()\n",
        "y = df.iloc[:,3].copy()\n",
        "print(x.shape)\n",
        "print(y.shape)\n",
        "x_train, x_test, y_train, y_test = train_test_split(x, y, test_size=0.25, random_state=1)"
      ]
    },
    {
      "cell_type": "code",
      "execution_count": 5,
      "metadata": {
        "id": "zqYmE8lwe_5E"
      },
      "outputs": [],
      "source": [
        "SC = StandardScaler()\n",
        "x_train = pd.DataFrame(SC.fit_transform(x_train))\n",
        "x_test = pd.DataFrame(SC.transform(x_test))"
      ]
    },
    {
      "cell_type": "code",
      "execution_count": 6,
      "metadata": {
        "colab": {
          "base_uri": "https://localhost:8080/"
        },
        "id": "GlLfRAXxfBI8",
        "outputId": "f4405b39-469a-4cbc-f13b-2f842dda74ec"
      },
      "outputs": [
        {
          "name": "stdout",
          "output_type": "stream",
          "text": [
            "Model: \"model\"\n",
            "_________________________________________________________________\n",
            " Layer (type)                Output Shape              Param #   \n",
            "=================================================================\n",
            " input_1 (InputLayer)        [(None, 3)]               0         \n",
            "                                                                 \n",
            " dense (Dense)               (None, 64)                256       \n",
            "                                                                 \n",
            " dense_1 (Dense)             (None, 64)                4160      \n",
            "                                                                 \n",
            " dense_2 (Dense)             (None, 64)                4160      \n",
            "                                                                 \n",
            " dense_3 (Dense)             (None, 64)                4160      \n",
            "                                                                 \n",
            " dense_4 (Dense)             (None, 64)                4160      \n",
            "                                                                 \n",
            " dense_5 (Dense)             (None, 64)                4160      \n",
            "                                                                 \n",
            " dense_6 (Dense)             (None, 64)                4160      \n",
            "                                                                 \n",
            " dense_7 (Dense)             (None, 64)                4160      \n",
            "                                                                 \n",
            " dense_8 (Dense)             (None, 64)                4160      \n",
            "                                                                 \n",
            " dense_9 (Dense)             (None, 64)                4160      \n",
            "                                                                 \n",
            " dense_10 (Dense)            (None, 64)                4160      \n",
            "                                                                 \n",
            " dense_11 (Dense)            (None, 128)               8320      \n",
            "                                                                 \n",
            " dropout (Dropout)           (None, 128)               0         \n",
            "                                                                 \n",
            " dense_12 (Dense)            (None, 64)                8256      \n",
            "                                                                 \n",
            " dropout_1 (Dropout)         (None, 64)                0         \n",
            "                                                                 \n",
            " dense_13 (Dense)            (None, 3)                 195       \n",
            "                                                                 \n",
            "=================================================================\n",
            "Total params: 58,627\n",
            "Trainable params: 58,627\n",
            "Non-trainable params: 0\n",
            "_________________________________________________________________\n"
          ]
        }
      ],
      "source": [
        "import tensorflow as tf\n",
        "\n",
        "inputs = tf.keras.Input(shape=(3,))\n",
        "x = tf.keras.layers.Dense(64, activation='relu')(inputs)\n",
        "x = tf.keras.layers.Dense(64, activation='relu')(x)\n",
        "x = tf.keras.layers.Dense(64, activation='relu')(x)\n",
        "x = tf.keras.layers.Dense(64, activation='relu')(x)\n",
        "x = tf.keras.layers.Dense(64, activation='relu')(x)\n",
        "x = tf.keras.layers.Dense(64, activation='relu')(x)\n",
        "x = tf.keras.layers.Dense(64, activation='relu')(x)\n",
        "x = tf.keras.layers.Dense(64, activation='relu')(x)\n",
        "x = tf.keras.layers.Dense(64, activation='relu')(x)\n",
        "x = tf.keras.layers.Dense(64, activation='relu')(x)\n",
        "x = tf.keras.layers.Dense(64, activation='relu')(x)\n",
        "\n",
        "# Dense layers\n",
        "x = tf.keras.layers.Dense(128, activation='relu')(x)\n",
        "x = tf.keras.layers.Dropout(0.2)(x)\n",
        "x = tf.keras.layers.Dense(64, activation='relu')(x)\n",
        "x = tf.keras.layers.Dropout(0.2)(x)\n",
        "outputs = tf.keras.layers.Dense(3, activation='softmax')(x)\n",
        "\n",
        "model_dnn = tf.keras.Model(inputs, outputs)\n",
        "model_dnn.summary()\n"
      ]
    },
    {
      "cell_type": "code",
      "execution_count": 7,
      "metadata": {
        "id": "3_MNDYHyfClo"
      },
      "outputs": [],
      "source": [
        "model_dnn.compile(\n",
        "    optimizer='adam',\n",
        "    loss='sparse_categorical_crossentropy',\n",
        "    metrics=['accuracy']\n",
        ")\n"
      ]
    },
    {
      "cell_type": "code",
      "execution_count": 8,
      "metadata": {
        "colab": {
          "base_uri": "https://localhost:8080/"
        },
        "id": "e5KZTQocfEZR",
        "outputId": "be247d13-9964-46c6-ab7e-708102847d68"
      },
      "outputs": [
        {
          "name": "stdout",
          "output_type": "stream",
          "text": [
            "Epoch 1/100\n",
            "456/456 [==============================] - 7s 7ms/step - loss: 0.5429 - accuracy: 0.7678 - val_loss: 0.4780 - val_accuracy: 0.8228 - lr: 0.0010\n",
            "Epoch 2/100\n",
            "456/456 [==============================] - 2s 5ms/step - loss: 0.4195 - accuracy: 0.8446 - val_loss: 0.4109 - val_accuracy: 0.8455 - lr: 0.0010\n",
            "Epoch 3/100\n",
            "456/456 [==============================] - 2s 5ms/step - loss: 0.3984 - accuracy: 0.8499 - val_loss: 0.3867 - val_accuracy: 0.8491 - lr: 0.0010\n",
            "Epoch 4/100\n",
            "456/456 [==============================] - 2s 5ms/step - loss: 0.3774 - accuracy: 0.8616 - val_loss: 0.4027 - val_accuracy: 0.8373 - lr: 0.0010\n",
            "Epoch 5/100\n",
            "456/456 [==============================] - 2s 5ms/step - loss: 0.3731 - accuracy: 0.8581 - val_loss: 0.3502 - val_accuracy: 0.8669 - lr: 0.0010\n",
            "Epoch 6/100\n",
            "456/456 [==============================] - 2s 5ms/step - loss: 0.3606 - accuracy: 0.8623 - val_loss: 0.3360 - val_accuracy: 0.8678 - lr: 0.0010\n",
            "Epoch 7/100\n",
            "456/456 [==============================] - 3s 6ms/step - loss: 0.3464 - accuracy: 0.8704 - val_loss: 0.3633 - val_accuracy: 0.8562 - lr: 0.0010\n",
            "Epoch 8/100\n",
            "456/456 [==============================] - 2s 5ms/step - loss: 0.3370 - accuracy: 0.8738 - val_loss: 0.3512 - val_accuracy: 0.8675 - lr: 0.0010\n",
            "Epoch 9/100\n",
            "456/456 [==============================] - 2s 5ms/step - loss: 0.3419 - accuracy: 0.8725 - val_loss: 0.3408 - val_accuracy: 0.8705 - lr: 0.0010\n",
            "Epoch 10/100\n",
            "456/456 [==============================] - 3s 6ms/step - loss: 0.3305 - accuracy: 0.8752 - val_loss: 0.3879 - val_accuracy: 0.8623 - lr: 0.0010\n",
            "Epoch 11/100\n",
            "456/456 [==============================] - 3s 5ms/step - loss: 0.3347 - accuracy: 0.8769 - val_loss: 0.3162 - val_accuracy: 0.8711 - lr: 0.0010\n",
            "Epoch 12/100\n",
            "456/456 [==============================] - 2s 5ms/step - loss: 0.3266 - accuracy: 0.8784 - val_loss: 0.3191 - val_accuracy: 0.8804 - lr: 0.0010\n",
            "Epoch 13/100\n",
            "456/456 [==============================] - 2s 5ms/step - loss: 0.3157 - accuracy: 0.8835 - val_loss: 0.3244 - val_accuracy: 0.8730 - lr: 0.0010\n",
            "Epoch 14/100\n",
            "456/456 [==============================] - 2s 5ms/step - loss: 0.3155 - accuracy: 0.8837 - val_loss: 0.2954 - val_accuracy: 0.8872 - lr: 0.0010\n",
            "Epoch 15/100\n",
            "456/456 [==============================] - 3s 5ms/step - loss: 0.3089 - accuracy: 0.8840 - val_loss: 0.3204 - val_accuracy: 0.8735 - lr: 0.0010\n",
            "Epoch 16/100\n",
            "456/456 [==============================] - 2s 5ms/step - loss: 0.3055 - accuracy: 0.8856 - val_loss: 0.3190 - val_accuracy: 0.8815 - lr: 0.0010\n",
            "Epoch 17/100\n",
            "456/456 [==============================] - 3s 6ms/step - loss: 0.3121 - accuracy: 0.8796 - val_loss: 0.3141 - val_accuracy: 0.8804 - lr: 0.0010\n",
            "Epoch 18/100\n",
            "456/456 [==============================] - 3s 6ms/step - loss: 0.3138 - accuracy: 0.8845 - val_loss: 0.2941 - val_accuracy: 0.8850 - lr: 0.0010\n",
            "Epoch 19/100\n",
            "456/456 [==============================] - 2s 5ms/step - loss: 0.3224 - accuracy: 0.8795 - val_loss: 0.3270 - val_accuracy: 0.8752 - lr: 0.0010\n",
            "Epoch 20/100\n",
            "456/456 [==============================] - 3s 6ms/step - loss: 0.3049 - accuracy: 0.8861 - val_loss: 0.2873 - val_accuracy: 0.8897 - lr: 0.0010\n",
            "Epoch 21/100\n",
            "456/456 [==============================] - 3s 6ms/step - loss: 0.2983 - accuracy: 0.8871 - val_loss: 0.3101 - val_accuracy: 0.8842 - lr: 0.0010\n",
            "Epoch 22/100\n",
            "456/456 [==============================] - 3s 6ms/step - loss: 0.3022 - accuracy: 0.8861 - val_loss: 0.2940 - val_accuracy: 0.8881 - lr: 0.0010\n",
            "Epoch 23/100\n",
            "456/456 [==============================] - 3s 6ms/step - loss: 0.2959 - accuracy: 0.8902 - val_loss: 0.2883 - val_accuracy: 0.8947 - lr: 0.0010\n",
            "Epoch 24/100\n",
            "456/456 [==============================] - 3s 6ms/step - loss: 0.2948 - accuracy: 0.8902 - val_loss: 0.3416 - val_accuracy: 0.8702 - lr: 0.0010\n",
            "Epoch 25/100\n",
            "456/456 [==============================] - 3s 7ms/step - loss: 0.2987 - accuracy: 0.8860 - val_loss: 0.2884 - val_accuracy: 0.8930 - lr: 0.0010\n",
            "Epoch 26/100\n",
            "456/456 [==============================] - 3s 6ms/step - loss: 0.2974 - accuracy: 0.8869 - val_loss: 0.2890 - val_accuracy: 0.8842 - lr: 0.0010\n",
            "Epoch 27/100\n",
            "456/456 [==============================] - 3s 6ms/step - loss: 0.2993 - accuracy: 0.8874 - val_loss: 0.2987 - val_accuracy: 0.8897 - lr: 0.0010\n",
            "Epoch 28/100\n",
            "456/456 [==============================] - 3s 6ms/step - loss: 0.2959 - accuracy: 0.8867 - val_loss: 0.2975 - val_accuracy: 0.8867 - lr: 0.0010\n",
            "Epoch 29/100\n",
            "456/456 [==============================] - 3s 6ms/step - loss: 0.2920 - accuracy: 0.8906 - val_loss: 0.2851 - val_accuracy: 0.8911 - lr: 0.0010\n",
            "Epoch 30/100\n",
            "456/456 [==============================] - 3s 6ms/step - loss: 0.2927 - accuracy: 0.8882 - val_loss: 0.2974 - val_accuracy: 0.8842 - lr: 0.0010\n",
            "Epoch 31/100\n",
            "456/456 [==============================] - 3s 6ms/step - loss: 0.2969 - accuracy: 0.8894 - val_loss: 0.2850 - val_accuracy: 0.8922 - lr: 0.0010\n",
            "Epoch 32/100\n",
            "456/456 [==============================] - 3s 6ms/step - loss: 0.2886 - accuracy: 0.8912 - val_loss: 0.2837 - val_accuracy: 0.8963 - lr: 0.0010\n",
            "Epoch 33/100\n",
            "456/456 [==============================] - 3s 6ms/step - loss: 0.2863 - accuracy: 0.8907 - val_loss: 0.2804 - val_accuracy: 0.8894 - lr: 0.0010\n",
            "Epoch 34/100\n",
            "456/456 [==============================] - 3s 6ms/step - loss: 0.2970 - accuracy: 0.8876 - val_loss: 0.3074 - val_accuracy: 0.8850 - lr: 0.0010\n",
            "Epoch 35/100\n",
            "456/456 [==============================] - 2s 5ms/step - loss: 0.3390 - accuracy: 0.8740 - val_loss: 0.3561 - val_accuracy: 0.8615 - lr: 0.0010\n",
            "Epoch 36/100\n",
            "456/456 [==============================] - 3s 5ms/step - loss: 0.3237 - accuracy: 0.8796 - val_loss: 0.3699 - val_accuracy: 0.8601 - lr: 0.0010\n",
            "Epoch 37/100\n",
            "456/456 [==============================] - 3s 6ms/step - loss: 0.3119 - accuracy: 0.8850 - val_loss: 0.2925 - val_accuracy: 0.8870 - lr: 0.0010\n",
            "Epoch 38/100\n",
            "456/456 [==============================] - 2s 5ms/step - loss: 0.2872 - accuracy: 0.8911 - val_loss: 0.2922 - val_accuracy: 0.8894 - lr: 0.0010\n",
            "Epoch 39/100\n",
            "456/456 [==============================] - 3s 6ms/step - loss: 0.2873 - accuracy: 0.8915 - val_loss: 0.2885 - val_accuracy: 0.8922 - lr: 0.0010\n",
            "Epoch 40/100\n",
            "456/456 [==============================] - 3s 6ms/step - loss: 0.2831 - accuracy: 0.8906 - val_loss: 0.2895 - val_accuracy: 0.8867 - lr: 0.0010\n",
            "Epoch 41/100\n",
            "456/456 [==============================] - 3s 6ms/step - loss: 0.2852 - accuracy: 0.8906 - val_loss: 0.3497 - val_accuracy: 0.8881 - lr: 0.0010\n",
            "Epoch 42/100\n",
            "456/456 [==============================] - 3s 6ms/step - loss: 0.2930 - accuracy: 0.8904 - val_loss: 0.3099 - val_accuracy: 0.8826 - lr: 0.0010\n",
            "Epoch 43/100\n",
            "456/456 [==============================] - 3s 6ms/step - loss: 0.2829 - accuracy: 0.8936 - val_loss: 0.2708 - val_accuracy: 0.8944 - lr: 0.0010\n",
            "Epoch 44/100\n",
            "456/456 [==============================] - 2s 5ms/step - loss: 0.2832 - accuracy: 0.8940 - val_loss: 0.3057 - val_accuracy: 0.8894 - lr: 0.0010\n",
            "Epoch 45/100\n",
            "456/456 [==============================] - 3s 6ms/step - loss: 0.2846 - accuracy: 0.8917 - val_loss: 0.2865 - val_accuracy: 0.8919 - lr: 0.0010\n",
            "Epoch 46/100\n",
            "456/456 [==============================] - 3s 6ms/step - loss: 0.2850 - accuracy: 0.8928 - val_loss: 0.2837 - val_accuracy: 0.8938 - lr: 0.0010\n",
            "Epoch 47/100\n",
            "456/456 [==============================] - 3s 6ms/step - loss: 0.2869 - accuracy: 0.8915 - val_loss: 0.2812 - val_accuracy: 0.8927 - lr: 0.0010\n",
            "Epoch 48/100\n",
            "456/456 [==============================] - 2s 5ms/step - loss: 0.2862 - accuracy: 0.8947 - val_loss: 0.3042 - val_accuracy: 0.8818 - lr: 0.0010\n",
            "Epoch 49/100\n",
            "456/456 [==============================] - 2s 5ms/step - loss: 0.2775 - accuracy: 0.8965 - val_loss: 0.2774 - val_accuracy: 0.8952 - lr: 0.0010\n",
            "Epoch 50/100\n",
            "456/456 [==============================] - 2s 5ms/step - loss: 0.2831 - accuracy: 0.8953 - val_loss: 0.2720 - val_accuracy: 0.8922 - lr: 0.0010\n",
            "Epoch 51/100\n",
            "456/456 [==============================] - 2s 5ms/step - loss: 0.2774 - accuracy: 0.8946 - val_loss: 0.2841 - val_accuracy: 0.8985 - lr: 0.0010\n",
            "Epoch 52/100\n",
            "456/456 [==============================] - 2s 5ms/step - loss: 0.2757 - accuracy: 0.8961 - val_loss: 0.2777 - val_accuracy: 0.8919 - lr: 0.0010\n",
            "Epoch 53/100\n",
            "456/456 [==============================] - 2s 5ms/step - loss: 0.2811 - accuracy: 0.8933 - val_loss: 0.2799 - val_accuracy: 0.8979 - lr: 0.0010\n",
            "Epoch 54/100\n",
            "456/456 [==============================] - 2s 5ms/step - loss: 0.2507 - accuracy: 0.9075 - val_loss: 0.2563 - val_accuracy: 0.9034 - lr: 1.0000e-04\n",
            "Epoch 55/100\n",
            "456/456 [==============================] - 2s 5ms/step - loss: 0.2461 - accuracy: 0.9075 - val_loss: 0.2510 - val_accuracy: 0.9064 - lr: 1.0000e-04\n",
            "Epoch 56/100\n",
            "456/456 [==============================] - 2s 5ms/step - loss: 0.2395 - accuracy: 0.9089 - val_loss: 0.2490 - val_accuracy: 0.9073 - lr: 1.0000e-04\n",
            "Epoch 57/100\n",
            "456/456 [==============================] - 2s 5ms/step - loss: 0.2385 - accuracy: 0.9087 - val_loss: 0.2489 - val_accuracy: 0.9045 - lr: 1.0000e-04\n",
            "Epoch 58/100\n",
            "456/456 [==============================] - 3s 6ms/step - loss: 0.2381 - accuracy: 0.9101 - val_loss: 0.2480 - val_accuracy: 0.9040 - lr: 1.0000e-04\n",
            "Epoch 59/100\n",
            "456/456 [==============================] - 2s 5ms/step - loss: 0.2367 - accuracy: 0.9119 - val_loss: 0.2447 - val_accuracy: 0.9078 - lr: 1.0000e-04\n",
            "Epoch 60/100\n",
            "456/456 [==============================] - 2s 5ms/step - loss: 0.2348 - accuracy: 0.9123 - val_loss: 0.2433 - val_accuracy: 0.9097 - lr: 1.0000e-04\n",
            "Epoch 61/100\n",
            "456/456 [==============================] - 3s 6ms/step - loss: 0.2336 - accuracy: 0.9110 - val_loss: 0.2452 - val_accuracy: 0.9075 - lr: 1.0000e-04\n",
            "Epoch 62/100\n",
            "456/456 [==============================] - 2s 5ms/step - loss: 0.2333 - accuracy: 0.9113 - val_loss: 0.2441 - val_accuracy: 0.9125 - lr: 1.0000e-04\n",
            "Epoch 63/100\n",
            "456/456 [==============================] - 2s 5ms/step - loss: 0.2319 - accuracy: 0.9112 - val_loss: 0.2471 - val_accuracy: 0.9084 - lr: 1.0000e-04\n",
            "Epoch 64/100\n",
            "456/456 [==============================] - 3s 6ms/step - loss: 0.2320 - accuracy: 0.9123 - val_loss: 0.2442 - val_accuracy: 0.9111 - lr: 1.0000e-04\n",
            "Epoch 65/100\n",
            "456/456 [==============================] - 3s 6ms/step - loss: 0.2302 - accuracy: 0.9114 - val_loss: 0.2431 - val_accuracy: 0.9089 - lr: 1.0000e-04\n",
            "Epoch 66/100\n",
            "456/456 [==============================] - 3s 6ms/step - loss: 0.2290 - accuracy: 0.9122 - val_loss: 0.2462 - val_accuracy: 0.9097 - lr: 1.0000e-04\n",
            "Epoch 67/100\n",
            "456/456 [==============================] - 2s 5ms/step - loss: 0.2306 - accuracy: 0.9116 - val_loss: 0.2423 - val_accuracy: 0.9103 - lr: 1.0000e-04\n",
            "Epoch 68/100\n",
            "456/456 [==============================] - 3s 6ms/step - loss: 0.2283 - accuracy: 0.9120 - val_loss: 0.2456 - val_accuracy: 0.9097 - lr: 1.0000e-04\n",
            "Epoch 69/100\n",
            "456/456 [==============================] - 2s 5ms/step - loss: 0.2273 - accuracy: 0.9129 - val_loss: 0.2406 - val_accuracy: 0.9128 - lr: 1.0000e-04\n",
            "Epoch 70/100\n",
            "456/456 [==============================] - 3s 6ms/step - loss: 0.2278 - accuracy: 0.9134 - val_loss: 0.2430 - val_accuracy: 0.9108 - lr: 1.0000e-04\n",
            "Epoch 71/100\n",
            "456/456 [==============================] - 3s 6ms/step - loss: 0.2276 - accuracy: 0.9138 - val_loss: 0.2410 - val_accuracy: 0.9095 - lr: 1.0000e-04\n",
            "Epoch 72/100\n",
            "456/456 [==============================] - 3s 6ms/step - loss: 0.2276 - accuracy: 0.9126 - val_loss: 0.2429 - val_accuracy: 0.9100 - lr: 1.0000e-04\n",
            "Epoch 73/100\n",
            "456/456 [==============================] - 3s 6ms/step - loss: 0.2256 - accuracy: 0.9139 - val_loss: 0.2427 - val_accuracy: 0.9106 - lr: 1.0000e-04\n",
            "Epoch 74/100\n",
            "456/456 [==============================] - 3s 6ms/step - loss: 0.2254 - accuracy: 0.9135 - val_loss: 0.2397 - val_accuracy: 0.9106 - lr: 1.0000e-04\n",
            "Epoch 75/100\n",
            "456/456 [==============================] - 3s 6ms/step - loss: 0.2245 - accuracy: 0.9148 - val_loss: 0.2412 - val_accuracy: 0.9103 - lr: 1.0000e-04\n",
            "Epoch 76/100\n",
            "456/456 [==============================] - 3s 6ms/step - loss: 0.2244 - accuracy: 0.9136 - val_loss: 0.2425 - val_accuracy: 0.9130 - lr: 1.0000e-04\n",
            "Epoch 77/100\n",
            "456/456 [==============================] - 3s 6ms/step - loss: 0.2238 - accuracy: 0.9122 - val_loss: 0.2382 - val_accuracy: 0.9114 - lr: 1.0000e-04\n",
            "Epoch 78/100\n",
            "456/456 [==============================] - 3s 6ms/step - loss: 0.2215 - accuracy: 0.9147 - val_loss: 0.2419 - val_accuracy: 0.9133 - lr: 1.0000e-04\n",
            "Epoch 79/100\n",
            "456/456 [==============================] - 3s 6ms/step - loss: 0.2235 - accuracy: 0.9146 - val_loss: 0.2410 - val_accuracy: 0.9117 - lr: 1.0000e-04\n",
            "Epoch 80/100\n",
            "456/456 [==============================] - 3s 6ms/step - loss: 0.2228 - accuracy: 0.9153 - val_loss: 0.2406 - val_accuracy: 0.9111 - lr: 1.0000e-04\n",
            "Epoch 81/100\n",
            "456/456 [==============================] - 3s 6ms/step - loss: 0.2223 - accuracy: 0.9137 - val_loss: 0.2406 - val_accuracy: 0.9103 - lr: 1.0000e-04\n",
            "Epoch 82/100\n",
            "456/456 [==============================] - 3s 6ms/step - loss: 0.2209 - accuracy: 0.9146 - val_loss: 0.2405 - val_accuracy: 0.9133 - lr: 1.0000e-04\n",
            "Epoch 83/100\n",
            "456/456 [==============================] - 3s 6ms/step - loss: 0.2213 - accuracy: 0.9160 - val_loss: 0.2400 - val_accuracy: 0.9122 - lr: 1.0000e-04\n",
            "Epoch 84/100\n",
            "456/456 [==============================] - 3s 7ms/step - loss: 0.2212 - accuracy: 0.9136 - val_loss: 0.2433 - val_accuracy: 0.9122 - lr: 1.0000e-04\n",
            "Epoch 85/100\n",
            "456/456 [==============================] - 3s 6ms/step - loss: 0.2189 - accuracy: 0.9160 - val_loss: 0.2441 - val_accuracy: 0.9119 - lr: 1.0000e-04\n",
            "Epoch 86/100\n",
            "456/456 [==============================] - 3s 6ms/step - loss: 0.2206 - accuracy: 0.9160 - val_loss: 0.2406 - val_accuracy: 0.9119 - lr: 1.0000e-04\n",
            "Epoch 87/100\n",
            "456/456 [==============================] - 3s 6ms/step - loss: 0.2185 - accuracy: 0.9157 - val_loss: 0.2407 - val_accuracy: 0.9108 - lr: 1.0000e-04\n",
            "Epoch 88/100\n",
            "456/456 [==============================] - 2s 5ms/step - loss: 0.2146 - accuracy: 0.9172 - val_loss: 0.2402 - val_accuracy: 0.9150 - lr: 1.0000e-05\n",
            "Epoch 89/100\n",
            "456/456 [==============================] - 3s 6ms/step - loss: 0.2135 - accuracy: 0.9172 - val_loss: 0.2409 - val_accuracy: 0.9147 - lr: 1.0000e-05\n",
            "Epoch 90/100\n",
            "456/456 [==============================] - 3s 6ms/step - loss: 0.2139 - accuracy: 0.9158 - val_loss: 0.2409 - val_accuracy: 0.9152 - lr: 1.0000e-05\n",
            "Epoch 91/100\n",
            "456/456 [==============================] - 3s 7ms/step - loss: 0.2129 - accuracy: 0.9167 - val_loss: 0.2416 - val_accuracy: 0.9144 - lr: 1.0000e-05\n",
            "Epoch 92/100\n",
            "456/456 [==============================] - 3s 6ms/step - loss: 0.2129 - accuracy: 0.9173 - val_loss: 0.2410 - val_accuracy: 0.9150 - lr: 1.0000e-05\n",
            "Epoch 93/100\n",
            "456/456 [==============================] - 3s 6ms/step - loss: 0.2132 - accuracy: 0.9176 - val_loss: 0.2422 - val_accuracy: 0.9152 - lr: 1.0000e-05\n",
            "Epoch 94/100\n",
            "456/456 [==============================] - 2s 5ms/step - loss: 0.2131 - accuracy: 0.9162 - val_loss: 0.2419 - val_accuracy: 0.9139 - lr: 1.0000e-05\n",
            "Epoch 95/100\n",
            "456/456 [==============================] - 3s 6ms/step - loss: 0.2127 - accuracy: 0.9166 - val_loss: 0.2423 - val_accuracy: 0.9147 - lr: 1.0000e-05\n",
            "Epoch 96/100\n",
            "456/456 [==============================] - 3s 6ms/step - loss: 0.2135 - accuracy: 0.9177 - val_loss: 0.2426 - val_accuracy: 0.9139 - lr: 1.0000e-05\n",
            "Epoch 97/100\n",
            "456/456 [==============================] - 3s 6ms/step - loss: 0.2126 - accuracy: 0.9166 - val_loss: 0.2428 - val_accuracy: 0.9141 - lr: 1.0000e-05\n",
            "Epoch 98/100\n",
            "456/456 [==============================] - 2s 5ms/step - loss: 0.2128 - accuracy: 0.9164 - val_loss: 0.2426 - val_accuracy: 0.9139 - lr: 1.0000e-06\n",
            "Epoch 99/100\n",
            "456/456 [==============================] - 2s 5ms/step - loss: 0.2121 - accuracy: 0.9166 - val_loss: 0.2425 - val_accuracy: 0.9141 - lr: 1.0000e-06\n",
            "Epoch 100/100\n",
            "456/456 [==============================] - 2s 5ms/step - loss: 0.2129 - accuracy: 0.9180 - val_loss: 0.2425 - val_accuracy: 0.9144 - lr: 1.0000e-06\n"
          ]
        }
      ],
      "source": [
        "batch_size = 32\n",
        "epochs = 100\n",
        "\n",
        "history = model_dnn.fit(\n",
        "    x_train,\n",
        "    y_train,\n",
        "    validation_split=0.2,\n",
        "    batch_size=batch_size,\n",
        "    epochs=epochs,\n",
        "    callbacks=[\n",
        "        tf.keras.callbacks.ReduceLROnPlateau()\n",
        "    ]\n",
        ")"
      ]
    },
    {
      "cell_type": "code",
      "execution_count": 12,
      "metadata": {},
      "outputs": [
        {
          "name": "stdout",
          "output_type": "stream",
          "text": [
            "190/190 [==============================] - 1s 3ms/step\n"
          ]
        },
        {
          "data": {
            "image/png": "[encoded data removed]",
            "text/plain": [
              "<Figure size 1500x800 with 2 Axes>"
            ]
          },
          "metadata": {},
          "output_type": "display_data"
        }
      ],
      "source": [
        "# Confusion matrix for LSTM model\n",
        "from sklearn.metrics import confusion_matrix\n",
        "import matplotlib.pyplot as plt\n",
        "import seaborn as sns\n",
        "y_true = np.array(y_test)\n",
        "y_pred_dnn = np.argmax(model_dnn.predict(x_test), axis=-1)\n",
        "cm_dnn = confusion_matrix(y_true, y_pred_dnn)\n",
        "plt.figure(figsize = (15,8))\n",
        "sns.heatmap(cm_dnn, annot=True, fmt='g', cmap='gist_heat',cbar=True)\n",
        "plt.xlabel(\"Predicted\")\n",
        "plt.ylabel(\"Actual\")\n",
        "plt.title(\"Confusion Matrix for DNN model\")\n",
        "plt.show()"
      ]
    },
    {
      "cell_type": "code",
      "execution_count": null,
      "metadata": {},
      "outputs": [],
      "source": [
        "# Make predictions on the test set\n",
        "y_pred = model_mobile_net.predict(x_test)\n",
        "y_pred_classes = np.argmax(y_pred, axis=1)\n",
        "\n",
        "# Generate the confusion matrix\n",
        "cm = confusion_matrix(y_test, y_pred_classes)\n",
        "\n",
        "plt.figure(figsize = (15,8))\n",
        "sns.heatmap(cm, annot=True, fmt='g', cmap='gist_heat',cbar=True)\n",
        "plt.xlabel(\"Predicted\")\n",
        "plt.ylabel(\"Actual\")\n",
        "plt.title(\"Confusion Matrix for Mobile Net V2\")\n",
        "plt.show()"
      ]
    }
  ],
  "metadata": {
    "colab": {
      "provenance": []
    },
    "kernelspec": {
      "display_name": "Python 3",
      "name": "python3"
    },
    "language_info": {
      "codemirror_mode": {
        "name": "ipython",
        "version": 3
      },
      "file_extension": ".py",
      "mimetype": "text/x-python",
      "name": "python",
      "nbconvert_exporter": "python",
      "pygments_lexer": "ipython3",
      "version": "3.7.0"
    }
  },
  "nbformat": 4,
  "nbformat_minor": 0
}
