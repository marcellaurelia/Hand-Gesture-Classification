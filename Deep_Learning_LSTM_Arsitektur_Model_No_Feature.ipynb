{
  "cells": [
    {
      "cell_type": "code",
      "execution_count": 1,
      "metadata": {
        "id": "K5e9wcpigMZ4"
      },
      "outputs": [],
      "source": [
        "import pandas as pd\n",
        "import numpy as np"
      ]
    },
    {
      "cell_type": "code",
      "execution_count": 3,
      "metadata": {
        "id": "FGtRs6AegW9i"
      },
      "outputs": [],
      "source": [
        "file_path = r'C:\\Users\\Lenovo\\Documents\\KULIAH\\semester 6\\Analisis Sinyal Biomedis\\all feature & labelling.csv'\n",
        "df = pd.read_csv(file_path, header=None, sep =\";\")\n",
        "df = df.apply(pd.to_numeric, errors='coerce')\n",
        "df = df.dropna()"
      ]
    },
    {
      "cell_type": "code",
      "execution_count": 5,
      "metadata": {
        "colab": {
          "base_uri": "https://localhost:8080/"
        },
        "id": "oDqbvjwzgs-l",
        "outputId": "34893de2-f010-40e5-c4ad-57f0f603fff4"
      },
      "outputs": [
        {
          "name": "stdout",
          "output_type": "stream",
          "text": [
            "(24297, 3)\n",
            "(24297,)\n"
          ]
        }
      ],
      "source": [
        "from sklearn.model_selection import train_test_split\n",
        "from sklearn.preprocessing import StandardScaler\n",
        "x = df.iloc[:,:3].copy()\n",
        "y = df.iloc[:,3].copy()\n",
        "print(x.shape)\n",
        "print(y.shape)\n",
        "x_train, x_test, y_train, y_test = train_test_split(x, y, test_size=0.25, random_state=1)"
      ]
    },
    {
      "cell_type": "code",
      "execution_count": 6,
      "metadata": {
        "id": "YVMnQyjChAjs"
      },
      "outputs": [],
      "source": [
        "SC = StandardScaler()\n",
        "x_train = pd.DataFrame(SC.fit_transform(x_train))\n",
        "x_test = pd.DataFrame(SC.transform(x_test))"
      ]
    },
    {
      "cell_type": "code",
      "execution_count": 10,
      "metadata": {
        "colab": {
          "base_uri": "https://localhost:8080/"
        },
        "id": "1jO86W2lnhjt",
        "outputId": "7bbb4f29-e1b8-43dc-e206-c692c434b3b4"
      },
      "outputs": [
        {
          "name": "stdout",
          "output_type": "stream",
          "text": [
            "Model: \"model_1\"\n",
            "_________________________________________________________________\n",
            " Layer (type)                Output Shape              Param #   \n",
            "=================================================================\n",
            " input_2 (InputLayer)        [(None, 3)]               0         \n",
            "                                                                 \n",
            " tf.expand_dims_1 (TFOpLambd  (None, 3, 1)             0         \n",
            " a)                                                              \n",
            "                                                                 \n",
            " lstm_10 (LSTM)              (None, 3, 64)             16896     \n",
            "                                                                 \n",
            " lstm_11 (LSTM)              (None, 3, 64)             33024     \n",
            "                                                                 \n",
            " lstm_12 (LSTM)              (None, 3, 64)             33024     \n",
            "                                                                 \n",
            " lstm_13 (LSTM)              (None, 3, 64)             33024     \n",
            "                                                                 \n",
            " lstm_14 (LSTM)              (None, 3, 64)             33024     \n",
            "                                                                 \n",
            " lstm_15 (LSTM)              (None, 3, 64)             33024     \n",
            "                                                                 \n",
            " lstm_16 (LSTM)              (None, 3, 64)             33024     \n",
            "                                                                 \n",
            " lstm_17 (LSTM)              (None, 3, 64)             33024     \n",
            "                                                                 \n",
            " lstm_18 (LSTM)              (None, 3, 64)             33024     \n",
            "                                                                 \n",
            " lstm_19 (LSTM)              (None, 64)                33024     \n",
            "                                                                 \n",
            " dense_3 (Dense)             (None, 128)               8320      \n",
            "                                                                 \n",
            " dropout_2 (Dropout)         (None, 128)               0         \n",
            "                                                                 \n",
            " dense_4 (Dense)             (None, 64)                8256      \n",
            "                                                                 \n",
            " dropout_3 (Dropout)         (None, 64)                0         \n",
            "                                                                 \n",
            " dense_5 (Dense)             (None, 3)                 195       \n",
            "                                                                 \n",
            "=================================================================\n",
            "Total params: 330,883\n",
            "Trainable params: 330,883\n",
            "Non-trainable params: 0\n",
            "_________________________________________________________________\n"
          ]
        }
      ],
      "source": [
        "#LSTM\n",
        "import tensorflow as tf\n",
        "\n",
        "inputs = tf.keras.Input(shape=(3,))\n",
        "reshaped_inputs = tf.expand_dims(inputs, axis=-1)  # Add an extra dimension for time steps\n",
        "\n",
        "# LSTM layers\n",
        "x = tf.keras.layers.LSTM(64, return_sequences=True)(reshaped_inputs)\n",
        "# Rest of the LSTM layers...\n",
        "\n",
        "x = tf.keras.layers.LSTM(64, return_sequences=True)(x)\n",
        "x = tf.keras.layers.LSTM(64, return_sequences=True)(x)\n",
        "x = tf.keras.layers.LSTM(64, return_sequences=True)(x)\n",
        "x = tf.keras.layers.LSTM(64, return_sequences=True)(x)\n",
        "x = tf.keras.layers.LSTM(64, return_sequences=True)(x)\n",
        "x = tf.keras.layers.LSTM(64, return_sequences=True)(x)\n",
        "x = tf.keras.layers.LSTM(64, return_sequences=True)(x)\n",
        "x = tf.keras.layers.LSTM(64, return_sequences=True)(x)\n",
        "x = tf.keras.layers.LSTM(64)(x)\n",
        "\n",
        "# Dense layers\n",
        "x = tf.keras.layers.Dense(128, activation='relu')(x)\n",
        "x = tf.keras.layers.Dropout(0.2)(x)\n",
        "x = tf.keras.layers.Dense(64, activation='relu')(x)\n",
        "x = tf.keras.layers.Dropout(0.2)(x)\n",
        "outputs = tf.keras.layers.Dense(3, activation='softmax')(x)\n",
        "\n",
        "model_lstm = tf.keras.Model(inputs, outputs)\n",
        "model_lstm.summary()\n"
      ]
    },
    {
      "cell_type": "code",
      "execution_count": 11,
      "metadata": {
        "id": "zQhF1_Dmnvvh"
      },
      "outputs": [],
      "source": [
        "model_lstm.compile(\n",
        "    optimizer='adam',\n",
        "    loss='sparse_categorical_crossentropy',\n",
        "    metrics=['accuracy']\n",
        ")\n"
      ]
    },
    {
      "cell_type": "code",
      "execution_count": 12,
      "metadata": {
        "colab": {
          "base_uri": "https://localhost:8080/"
        },
        "id": "AUlI1-oJoj8h",
        "outputId": "7da9a2a1-91bf-4c64-991e-12c044b04155"
      },
      "outputs": [
        {
          "name": "stdout",
          "output_type": "stream",
          "text": [
            "Epoch 1/100\n",
            "456/456 [==============================] - 42s 34ms/step - loss: 0.8455 - accuracy: 0.5446 - val_loss: 0.6567 - val_accuracy: 0.6957 - lr: 0.0010\n",
            "Epoch 2/100\n",
            "456/456 [==============================] - 12s 27ms/step - loss: 0.5591 - accuracy: 0.7466 - val_loss: 0.5333 - val_accuracy: 0.7501 - lr: 0.0010\n",
            "Epoch 3/100\n",
            "456/456 [==============================] - 14s 32ms/step - loss: 0.5391 - accuracy: 0.7530 - val_loss: 0.5350 - val_accuracy: 0.7525 - lr: 0.0010\n",
            "Epoch 4/100\n",
            "456/456 [==============================] - 12s 27ms/step - loss: 0.5270 - accuracy: 0.7575 - val_loss: 0.5536 - val_accuracy: 0.7564 - lr: 0.0010\n",
            "Epoch 5/100\n",
            "456/456 [==============================] - 10s 22ms/step - loss: 0.5138 - accuracy: 0.7685 - val_loss: 0.5016 - val_accuracy: 0.7616 - lr: 0.0010\n",
            "Epoch 6/100\n",
            "456/456 [==============================] - 10s 23ms/step - loss: 0.5097 - accuracy: 0.7670 - val_loss: 0.5171 - val_accuracy: 0.7547 - lr: 0.0010\n",
            "Epoch 7/100\n",
            "456/456 [==============================] - 10s 22ms/step - loss: 0.5010 - accuracy: 0.7715 - val_loss: 0.4970 - val_accuracy: 0.7813 - lr: 0.0010\n",
            "Epoch 8/100\n",
            "456/456 [==============================] - 10s 23ms/step - loss: 0.4911 - accuracy: 0.7799 - val_loss: 0.4821 - val_accuracy: 0.7877 - lr: 0.0010\n",
            "Epoch 9/100\n",
            "456/456 [==============================] - 11s 24ms/step - loss: 0.4799 - accuracy: 0.7897 - val_loss: 0.4909 - val_accuracy: 0.7827 - lr: 0.0010\n",
            "Epoch 10/100\n",
            "456/456 [==============================] - 10s 23ms/step - loss: 0.4966 - accuracy: 0.7841 - val_loss: 0.4873 - val_accuracy: 0.7835 - lr: 0.0010\n",
            "Epoch 11/100\n",
            "456/456 [==============================] - 11s 23ms/step - loss: 0.4752 - accuracy: 0.7969 - val_loss: 0.4823 - val_accuracy: 0.7863 - lr: 0.0010\n",
            "Epoch 12/100\n",
            "456/456 [==============================] - 11s 25ms/step - loss: 0.4724 - accuracy: 0.7941 - val_loss: 0.4707 - val_accuracy: 0.7860 - lr: 0.0010\n",
            "Epoch 13/100\n",
            "456/456 [==============================] - 11s 23ms/step - loss: 0.4646 - accuracy: 0.7976 - val_loss: 0.4793 - val_accuracy: 0.7852 - lr: 0.0010\n",
            "Epoch 14/100\n",
            "456/456 [==============================] - 10s 23ms/step - loss: 0.4644 - accuracy: 0.7972 - val_loss: 0.4946 - val_accuracy: 0.7819 - lr: 0.0010\n",
            "Epoch 15/100\n",
            "456/456 [==============================] - 10s 23ms/step - loss: 0.4609 - accuracy: 0.8006 - val_loss: 0.4622 - val_accuracy: 0.7893 - lr: 0.0010\n",
            "Epoch 16/100\n",
            "456/456 [==============================] - 10s 23ms/step - loss: 0.4574 - accuracy: 0.7997 - val_loss: 0.4561 - val_accuracy: 0.7948 - lr: 0.0010\n",
            "Epoch 17/100\n",
            "456/456 [==============================] - 10s 23ms/step - loss: 0.4471 - accuracy: 0.8043 - val_loss: 0.4967 - val_accuracy: 0.7717 - lr: 0.0010\n",
            "Epoch 18/100\n",
            "456/456 [==============================] - 11s 24ms/step - loss: 0.4454 - accuracy: 0.8074 - val_loss: 0.4452 - val_accuracy: 0.8027 - lr: 0.0010\n",
            "Epoch 19/100\n",
            "456/456 [==============================] - 10s 22ms/step - loss: 0.4262 - accuracy: 0.8157 - val_loss: 0.4294 - val_accuracy: 0.8214 - lr: 0.0010\n",
            "Epoch 20/100\n",
            "456/456 [==============================] - 10s 23ms/step - loss: 0.4114 - accuracy: 0.8315 - val_loss: 0.4006 - val_accuracy: 0.8362 - lr: 0.0010\n",
            "Epoch 21/100\n",
            "456/456 [==============================] - 10s 23ms/step - loss: 0.4095 - accuracy: 0.8293 - val_loss: 0.4288 - val_accuracy: 0.8118 - lr: 0.0010\n",
            "Epoch 22/100\n",
            "456/456 [==============================] - 10s 23ms/step - loss: 0.3988 - accuracy: 0.8332 - val_loss: 0.4230 - val_accuracy: 0.8082 - lr: 0.0010\n",
            "Epoch 23/100\n",
            "456/456 [==============================] - 10s 23ms/step - loss: 0.4041 - accuracy: 0.8304 - val_loss: 0.4075 - val_accuracy: 0.8351 - lr: 0.0010\n",
            "Epoch 24/100\n",
            "456/456 [==============================] - 11s 23ms/step - loss: 0.3781 - accuracy: 0.8503 - val_loss: 0.3859 - val_accuracy: 0.8390 - lr: 0.0010\n",
            "Epoch 25/100\n",
            "456/456 [==============================] - 10s 23ms/step - loss: 0.3784 - accuracy: 0.8453 - val_loss: 0.3866 - val_accuracy: 0.8291 - lr: 0.0010\n",
            "Epoch 26/100\n",
            "456/456 [==============================] - 11s 23ms/step - loss: 0.3668 - accuracy: 0.8510 - val_loss: 0.3976 - val_accuracy: 0.8527 - lr: 0.0010\n",
            "Epoch 27/100\n",
            "456/456 [==============================] - 10s 23ms/step - loss: 0.3657 - accuracy: 0.8535 - val_loss: 0.3856 - val_accuracy: 0.8365 - lr: 0.0010\n",
            "Epoch 28/100\n",
            "456/456 [==============================] - 10s 23ms/step - loss: 0.3679 - accuracy: 0.8534 - val_loss: 0.3668 - val_accuracy: 0.8381 - lr: 0.0010\n",
            "Epoch 29/100\n",
            "456/456 [==============================] - 10s 23ms/step - loss: 0.3631 - accuracy: 0.8569 - val_loss: 0.3895 - val_accuracy: 0.8340 - lr: 0.0010\n",
            "Epoch 30/100\n",
            "456/456 [==============================] - 11s 24ms/step - loss: 0.3536 - accuracy: 0.8619 - val_loss: 0.3521 - val_accuracy: 0.8601 - lr: 0.0010\n",
            "Epoch 31/100\n",
            "456/456 [==============================] - 10s 22ms/step - loss: 0.3466 - accuracy: 0.8665 - val_loss: 0.3655 - val_accuracy: 0.8519 - lr: 0.0010\n",
            "Epoch 32/100\n",
            "456/456 [==============================] - 10s 23ms/step - loss: 0.3526 - accuracy: 0.8635 - val_loss: 0.3720 - val_accuracy: 0.8464 - lr: 0.0010\n",
            "Epoch 33/100\n",
            "456/456 [==============================] - 11s 24ms/step - loss: 0.3453 - accuracy: 0.8668 - val_loss: 0.3676 - val_accuracy: 0.8521 - lr: 0.0010\n",
            "Epoch 34/100\n",
            "456/456 [==============================] - 11s 24ms/step - loss: 0.3483 - accuracy: 0.8667 - val_loss: 0.3912 - val_accuracy: 0.8455 - lr: 0.0010\n",
            "Epoch 35/100\n",
            "456/456 [==============================] - 11s 23ms/step - loss: 0.3485 - accuracy: 0.8650 - val_loss: 0.3584 - val_accuracy: 0.8491 - lr: 0.0010\n",
            "Epoch 36/100\n",
            "456/456 [==============================] - 11s 23ms/step - loss: 0.3474 - accuracy: 0.8684 - val_loss: 0.3525 - val_accuracy: 0.8628 - lr: 0.0010\n",
            "Epoch 37/100\n",
            "456/456 [==============================] - 11s 24ms/step - loss: 0.3419 - accuracy: 0.8681 - val_loss: 0.3522 - val_accuracy: 0.8680 - lr: 0.0010\n",
            "Epoch 38/100\n",
            "456/456 [==============================] - 11s 23ms/step - loss: 0.3387 - accuracy: 0.8703 - val_loss: 0.3433 - val_accuracy: 0.8636 - lr: 0.0010\n",
            "Epoch 39/100\n",
            "456/456 [==============================] - 11s 25ms/step - loss: 0.3342 - accuracy: 0.8737 - val_loss: 0.3482 - val_accuracy: 0.8675 - lr: 0.0010\n",
            "Epoch 40/100\n",
            "456/456 [==============================] - 10s 23ms/step - loss: 0.3362 - accuracy: 0.8701 - val_loss: 0.3794 - val_accuracy: 0.8571 - lr: 0.0010\n",
            "Epoch 41/100\n",
            "456/456 [==============================] - 11s 24ms/step - loss: 0.3307 - accuracy: 0.8745 - val_loss: 0.3391 - val_accuracy: 0.8691 - lr: 0.0010\n",
            "Epoch 42/100\n",
            "456/456 [==============================] - 11s 23ms/step - loss: 0.3391 - accuracy: 0.8724 - val_loss: 0.3501 - val_accuracy: 0.8645 - lr: 0.0010\n",
            "Epoch 43/100\n",
            "456/456 [==============================] - 10s 23ms/step - loss: 0.3312 - accuracy: 0.8743 - val_loss: 0.3488 - val_accuracy: 0.8645 - lr: 0.0010\n",
            "Epoch 44/100\n",
            "456/456 [==============================] - 11s 24ms/step - loss: 0.3298 - accuracy: 0.8738 - val_loss: 0.3310 - val_accuracy: 0.8713 - lr: 0.0010\n",
            "Epoch 45/100\n",
            "456/456 [==============================] - 10s 23ms/step - loss: 0.3230 - accuracy: 0.8779 - val_loss: 0.3252 - val_accuracy: 0.8752 - lr: 0.0010\n",
            "Epoch 46/100\n",
            "456/456 [==============================] - 11s 23ms/step - loss: 0.3262 - accuracy: 0.8775 - val_loss: 0.3881 - val_accuracy: 0.8527 - lr: 0.0010\n",
            "Epoch 47/100\n",
            "456/456 [==============================] - 11s 24ms/step - loss: 0.3251 - accuracy: 0.8775 - val_loss: 0.3524 - val_accuracy: 0.8683 - lr: 0.0010\n",
            "Epoch 48/100\n",
            "456/456 [==============================] - 11s 24ms/step - loss: 0.3262 - accuracy: 0.8790 - val_loss: 0.3219 - val_accuracy: 0.8752 - lr: 0.0010\n",
            "Epoch 49/100\n",
            "456/456 [==============================] - 12s 25ms/step - loss: 0.3243 - accuracy: 0.8767 - val_loss: 0.3502 - val_accuracy: 0.8708 - lr: 0.0010\n",
            "Epoch 50/100\n",
            "456/456 [==============================] - 23s 50ms/step - loss: 0.3281 - accuracy: 0.8776 - val_loss: 0.3367 - val_accuracy: 0.8675 - lr: 0.0010\n",
            "Epoch 51/100\n",
            "456/456 [==============================] - 19s 42ms/step - loss: 0.3208 - accuracy: 0.8808 - val_loss: 0.3327 - val_accuracy: 0.8711 - lr: 0.0010\n",
            "Epoch 52/100\n",
            "456/456 [==============================] - 14s 31ms/step - loss: 0.3164 - accuracy: 0.8804 - val_loss: 0.3400 - val_accuracy: 0.8694 - lr: 0.0010\n",
            "Epoch 53/100\n",
            "456/456 [==============================] - 15s 33ms/step - loss: 0.3199 - accuracy: 0.8790 - val_loss: 0.3486 - val_accuracy: 0.8722 - lr: 0.0010\n",
            "Epoch 54/100\n",
            "456/456 [==============================] - 15s 33ms/step - loss: 0.3235 - accuracy: 0.8795 - val_loss: 0.3184 - val_accuracy: 0.8779 - lr: 0.0010\n",
            "Epoch 55/100\n",
            "456/456 [==============================] - 16s 34ms/step - loss: 0.3175 - accuracy: 0.8799 - val_loss: 0.3565 - val_accuracy: 0.8604 - lr: 0.0010\n",
            "Epoch 56/100\n",
            "456/456 [==============================] - 16s 35ms/step - loss: 0.3176 - accuracy: 0.8808 - val_loss: 0.3148 - val_accuracy: 0.8779 - lr: 0.0010\n",
            "Epoch 57/100\n",
            "456/456 [==============================] - 17s 38ms/step - loss: 0.3122 - accuracy: 0.8823 - val_loss: 0.3210 - val_accuracy: 0.8815 - lr: 0.0010\n",
            "Epoch 58/100\n",
            "456/456 [==============================] - 17s 37ms/step - loss: 0.3133 - accuracy: 0.8813 - val_loss: 0.3488 - val_accuracy: 0.8573 - lr: 0.0010\n",
            "Epoch 59/100\n",
            "456/456 [==============================] - 16s 35ms/step - loss: 0.3103 - accuracy: 0.8844 - val_loss: 0.3268 - val_accuracy: 0.8713 - lr: 0.0010\n",
            "Epoch 60/100\n",
            "456/456 [==============================] - 16s 36ms/step - loss: 0.3142 - accuracy: 0.8807 - val_loss: 0.3238 - val_accuracy: 0.8708 - lr: 0.0010\n",
            "Epoch 61/100\n",
            "456/456 [==============================] - 16s 34ms/step - loss: 0.3203 - accuracy: 0.8800 - val_loss: 0.3165 - val_accuracy: 0.8771 - lr: 0.0010\n",
            "Epoch 62/100\n",
            "456/456 [==============================] - 15s 32ms/step - loss: 0.3284 - accuracy: 0.8788 - val_loss: 0.3172 - val_accuracy: 0.8757 - lr: 0.0010\n",
            "Epoch 63/100\n",
            "456/456 [==============================] - 15s 34ms/step - loss: 0.3098 - accuracy: 0.8822 - val_loss: 0.3499 - val_accuracy: 0.8582 - lr: 0.0010\n",
            "Epoch 64/100\n",
            "456/456 [==============================] - 16s 34ms/step - loss: 0.3112 - accuracy: 0.8832 - val_loss: 0.3389 - val_accuracy: 0.8727 - lr: 0.0010\n",
            "Epoch 65/100\n",
            "456/456 [==============================] - 16s 36ms/step - loss: 0.3098 - accuracy: 0.8834 - val_loss: 0.3393 - val_accuracy: 0.8705 - lr: 0.0010\n",
            "Epoch 66/100\n",
            "456/456 [==============================] - 17s 36ms/step - loss: 0.3113 - accuracy: 0.8832 - val_loss: 0.3128 - val_accuracy: 0.8812 - lr: 0.0010\n",
            "Epoch 67/100\n",
            "456/456 [==============================] - 18s 39ms/step - loss: 0.3079 - accuracy: 0.8836 - val_loss: 0.3221 - val_accuracy: 0.8765 - lr: 0.0010\n",
            "Epoch 68/100\n",
            "456/456 [==============================] - 17s 37ms/step - loss: 0.3115 - accuracy: 0.8862 - val_loss: 0.3705 - val_accuracy: 0.8636 - lr: 0.0010\n",
            "Epoch 69/100\n",
            "456/456 [==============================] - 16s 34ms/step - loss: 0.3060 - accuracy: 0.8849 - val_loss: 0.3186 - val_accuracy: 0.8733 - lr: 0.0010\n",
            "Epoch 70/100\n",
            "456/456 [==============================] - 11s 25ms/step - loss: 0.3117 - accuracy: 0.8858 - val_loss: 0.3159 - val_accuracy: 0.8730 - lr: 0.0010\n",
            "Epoch 71/100\n",
            "456/456 [==============================] - 11s 24ms/step - loss: 0.3035 - accuracy: 0.8865 - val_loss: 0.3204 - val_accuracy: 0.8796 - lr: 0.0010\n",
            "Epoch 72/100\n",
            "456/456 [==============================] - 11s 24ms/step - loss: 0.3021 - accuracy: 0.8872 - val_loss: 0.3089 - val_accuracy: 0.8804 - lr: 0.0010\n",
            "Epoch 73/100\n",
            "456/456 [==============================] - 11s 25ms/step - loss: 0.3047 - accuracy: 0.8865 - val_loss: 0.3245 - val_accuracy: 0.8768 - lr: 0.0010\n",
            "Epoch 74/100\n",
            "456/456 [==============================] - 13s 29ms/step - loss: 0.3302 - accuracy: 0.8775 - val_loss: 0.3411 - val_accuracy: 0.8634 - lr: 0.0010\n",
            "Epoch 75/100\n",
            "456/456 [==============================] - 13s 28ms/step - loss: 0.3261 - accuracy: 0.8732 - val_loss: 0.3298 - val_accuracy: 0.8776 - lr: 0.0010\n",
            "Epoch 76/100\n",
            "456/456 [==============================] - 15s 32ms/step - loss: 0.3116 - accuracy: 0.8812 - val_loss: 0.3247 - val_accuracy: 0.8812 - lr: 0.0010\n",
            "Epoch 77/100\n",
            "456/456 [==============================] - 15s 33ms/step - loss: 0.3091 - accuracy: 0.8828 - val_loss: 0.3207 - val_accuracy: 0.8746 - lr: 0.0010\n",
            "Epoch 78/100\n",
            "456/456 [==============================] - 15s 33ms/step - loss: 0.3043 - accuracy: 0.8861 - val_loss: 0.3111 - val_accuracy: 0.8831 - lr: 0.0010\n",
            "Epoch 79/100\n",
            "456/456 [==============================] - 11s 25ms/step - loss: 0.3037 - accuracy: 0.8854 - val_loss: 0.3057 - val_accuracy: 0.8809 - lr: 0.0010\n",
            "Epoch 80/100\n",
            "456/456 [==============================] - 12s 26ms/step - loss: 0.3032 - accuracy: 0.8879 - val_loss: 0.3393 - val_accuracy: 0.8702 - lr: 0.0010\n",
            "Epoch 81/100\n",
            "456/456 [==============================] - 12s 26ms/step - loss: 0.3011 - accuracy: 0.8861 - val_loss: 0.3069 - val_accuracy: 0.8801 - lr: 0.0010\n",
            "Epoch 82/100\n",
            "456/456 [==============================] - 14s 30ms/step - loss: 0.3073 - accuracy: 0.8841 - val_loss: 0.3193 - val_accuracy: 0.8809 - lr: 0.0010\n",
            "Epoch 83/100\n",
            "456/456 [==============================] - 12s 27ms/step - loss: 0.2952 - accuracy: 0.8875 - val_loss: 0.3139 - val_accuracy: 0.8779 - lr: 0.0010\n",
            "Epoch 84/100\n",
            "456/456 [==============================] - 13s 28ms/step - loss: 0.2973 - accuracy: 0.8885 - val_loss: 0.3060 - val_accuracy: 0.8829 - lr: 0.0010\n",
            "Epoch 85/100\n",
            "456/456 [==============================] - 13s 30ms/step - loss: 0.2962 - accuracy: 0.8877 - val_loss: 0.3051 - val_accuracy: 0.8859 - lr: 0.0010\n",
            "Epoch 86/100\n",
            "456/456 [==============================] - 11s 25ms/step - loss: 0.2931 - accuracy: 0.8890 - val_loss: 0.3169 - val_accuracy: 0.8724 - lr: 0.0010\n",
            "Epoch 87/100\n",
            "456/456 [==============================] - 15s 33ms/step - loss: 0.3055 - accuracy: 0.8848 - val_loss: 0.3115 - val_accuracy: 0.8815 - lr: 0.0010\n",
            "Epoch 88/100\n",
            "456/456 [==============================] - 12s 26ms/step - loss: 0.2995 - accuracy: 0.8869 - val_loss: 0.3338 - val_accuracy: 0.8645 - lr: 0.0010\n",
            "Epoch 89/100\n",
            "456/456 [==============================] - 12s 26ms/step - loss: 0.2995 - accuracy: 0.8874 - val_loss: 0.3312 - val_accuracy: 0.8746 - lr: 0.0010\n",
            "Epoch 90/100\n",
            "456/456 [==============================] - 12s 27ms/step - loss: 0.2997 - accuracy: 0.8872 - val_loss: 0.3363 - val_accuracy: 0.8606 - lr: 0.0010\n",
            "Epoch 91/100\n",
            "456/456 [==============================] - 25s 55ms/step - loss: 0.3014 - accuracy: 0.8852 - val_loss: 0.3090 - val_accuracy: 0.8776 - lr: 0.0010\n",
            "Epoch 92/100\n",
            "456/456 [==============================] - 28s 62ms/step - loss: 0.3062 - accuracy: 0.8824 - val_loss: 0.3300 - val_accuracy: 0.8694 - lr: 0.0010\n",
            "Epoch 93/100\n",
            "456/456 [==============================] - 28s 62ms/step - loss: 0.2928 - accuracy: 0.8867 - val_loss: 0.3148 - val_accuracy: 0.8793 - lr: 0.0010\n",
            "Epoch 94/100\n",
            "456/456 [==============================] - 16s 35ms/step - loss: 0.2906 - accuracy: 0.8908 - val_loss: 0.2974 - val_accuracy: 0.8905 - lr: 0.0010\n",
            "Epoch 95/100\n",
            "456/456 [==============================] - 26s 57ms/step - loss: 0.2884 - accuracy: 0.8919 - val_loss: 0.3115 - val_accuracy: 0.8785 - lr: 0.0010\n",
            "Epoch 96/100\n",
            "456/456 [==============================] - 28s 61ms/step - loss: 0.2925 - accuracy: 0.8908 - val_loss: 0.3068 - val_accuracy: 0.8818 - lr: 0.0010\n",
            "Epoch 97/100\n",
            "456/456 [==============================] - 20s 44ms/step - loss: 0.2957 - accuracy: 0.8899 - val_loss: 0.3047 - val_accuracy: 0.8837 - lr: 0.0010\n",
            "Epoch 98/100\n",
            "456/456 [==============================] - 11s 24ms/step - loss: 0.2878 - accuracy: 0.8913 - val_loss: 0.3244 - val_accuracy: 0.8771 - lr: 0.0010\n",
            "Epoch 99/100\n",
            "456/456 [==============================] - 10s 23ms/step - loss: 0.2957 - accuracy: 0.8897 - val_loss: 0.2926 - val_accuracy: 0.8848 - lr: 0.0010\n",
            "Epoch 100/100\n",
            "456/456 [==============================] - 11s 23ms/step - loss: 0.2964 - accuracy: 0.8901 - val_loss: 0.3351 - val_accuracy: 0.8713 - lr: 0.0010\n"
          ]
        }
      ],
      "source": [
        "batch_size = 32\n",
        "epochs = 100\n",
        "\n",
        "history = model_lstm.fit(\n",
        "    x_train,\n",
        "    y_train,\n",
        "    validation_split=0.2,\n",
        "    batch_size=batch_size,\n",
        "    epochs=epochs,\n",
        "    callbacks=[\n",
        "        tf.keras.callbacks.ReduceLROnPlateau()\n",
        "    ]\n",
        ")"
      ]
    },
    {
      "cell_type": "code",
      "execution_count": 13,
      "metadata": {},
      "outputs": [
        {
          "name": "stdout",
          "output_type": "stream",
          "text": [
            "190/190 [==============================] - 7s 8ms/step\n"
          ]
        },
        {
          "data": {
            "image/png": "[encoded data removed]",
            "text/plain": [
              "<Figure size 1500x800 with 2 Axes>"
            ]
          },
          "metadata": {},
          "output_type": "display_data"
        }
      ],
      "source": [
        "# Confusion matrix for LSTM model\n",
        "from sklearn.metrics import confusion_matrix\n",
        "import matplotlib.pyplot as plt\n",
        "import seaborn as sns\n",
        "y_true = np.array(y_test)\n",
        "y_pred_lstm = np.argmax(model_lstm.predict(x_test), axis=-1)\n",
        "cm_lstm = confusion_matrix(y_true, y_pred_lstm)\n",
        "plt.figure(figsize = (15,8))\n",
        "sns.heatmap(cm_lstm, annot=True, fmt='g', cmap='gist_heat',cbar=True)\n",
        "plt.xlabel(\"Predicted\")\n",
        "plt.ylabel(\"Actual\")\n",
        "plt.title(\"Confusion Matrix for LSTM model\")\n",
        "plt.show()"
      ]
    }
  ],
  "metadata": {
    "colab": {
      "provenance": []
    },
    "kernelspec": {
      "display_name": "Python 3",
      "name": "python3"
    },
    "language_info": {
      "codemirror_mode": {
        "name": "ipython",
        "version": 3
      },
      "file_extension": ".py",
      "mimetype": "text/x-python",
      "name": "python",
      "nbconvert_exporter": "python",
      "pygments_lexer": "ipython3",
      "version": "3.7.0"
    }
  },
  "nbformat": 4,
  "nbformat_minor": 0
}
