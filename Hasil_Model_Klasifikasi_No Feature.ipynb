{
  "cells": [
    {
      "cell_type": "code",
      "execution_count": 23,
      "id": "4c78eac2",
      "metadata": {
        "_cell_guid": "b1076dfc-b9ad-4769-8c92-a6c4dae69d19",
        "_uuid": "8f2839f25d086af736a60e9eeb907d3b93b6e0e5",
        "execution": {
          "iopub.execute_input": "2022-03-10T21:52:35.997872Z",
          "iopub.status.busy": "2022-03-10T21:52:35.997064Z",
          "iopub.status.idle": "2022-03-10T21:52:41.320345Z",
          "shell.execute_reply": "2022-03-10T21:52:41.319740Z",
          "shell.execute_reply.started": "2022-03-10T20:56:32.761610Z"
        },
        "id": "4c78eac2",
        "papermill": {
          "duration": 5.347785,
          "end_time": "2022-03-10T21:52:41.320519",
          "exception": false,
          "start_time": "2022-03-10T21:52:35.972734",
          "status": "completed"
        },
        "tags": []
      },
      "outputs": [],
      "source": [
        "import numpy as np # linear algebra\n",
        "import pandas as pd # data processing, CSV file I/O (e.g. pd.read_csv)\n",
        "import matplotlib.pyplot as plt\n",
        "import seaborn as sns\n",
        "from sklearn.model_selection import train_test_split\n",
        "from sklearn.preprocessing import StandardScaler\n",
        "from sklearn.ensemble import RandomForestClassifier\n",
        "from sklearn.model_selection import GridSearchCV\n",
        "import tensorflow as tf\n",
        "import xgboost as xgb\n",
        "import os\n",
        "# for dirname, _, filenames in os.walk('/kaggle/input'):\n",
        "#     for filename in filenames:\n",
        "#         print(os.path.join(dirname, filename))"
      ]
    },
    {
      "cell_type": "code",
      "execution_count": 24,
      "id": "0f83183c",
      "metadata": {
        "colab": {
          "base_uri": "https://localhost:8080/"
        },
        "execution": {
          "iopub.execute_input": "2022-03-10T21:52:41.347839Z",
          "iopub.status.busy": "2022-03-10T21:52:41.347282Z",
          "iopub.status.idle": "2022-03-10T21:52:41.826145Z",
          "shell.execute_reply": "2022-03-10T21:52:41.826652Z",
          "shell.execute_reply.started": "2022-03-10T21:14:42.844105Z"
        },
        "id": "0f83183c",
        "outputId": "c209ceaf-a177-4d68-f3de-c9fc1755ebac",
        "papermill": {
          "duration": 0.495012,
          "end_time": "2022-03-10T21:52:41.826821",
          "exception": false,
          "start_time": "2022-03-10T21:52:41.331809",
          "status": "completed"
        },
        "tags": []
      },
      "outputs": [
        {
          "data": {
            "text/plain": [
              "(27870, 5)"
            ]
          },
          "execution_count": 24,
          "metadata": {},
          "output_type": "execute_result"
        }
      ],
      "source": [
        "df = pd.read_csv('/content/all_labelled.csv', header=None, sep =\";\")\n",
        "df.shape"
      ]
    },
    {
      "cell_type": "code",
      "execution_count": 25,
      "id": "0Ezy0uCbJDWp",
      "metadata": {
        "colab": {
          "base_uri": "https://localhost:8080/",
          "height": 206
        },
        "id": "0Ezy0uCbJDWp",
        "outputId": "34c226a5-32b7-4420-dfc4-eb89e7f5f227"
      },
      "outputs": [
        {
          "data": {
            "text/html": [
              "\n",
              "  <div id=\"df-68603fd1-12c1-4e69-b475-3866c2c1238f\">\n",
              "    <div class=\"colab-df-container\">\n",
              "      <div>\n",
              "<style scoped>\n",
              "    .dataframe tbody tr th:only-of-type {\n",
              "        vertical-align: middle;\n",
              "    }\n",
              "\n",
              "    .dataframe tbody tr th {\n",
              "        vertical-align: top;\n",
              "    }\n",
              "\n",
              "    .dataframe thead th {\n",
              "        text-align: right;\n",
              "    }\n",
              "</style>\n",
              "<table border=\"1\" class=\"dataframe\">\n",
              "  <thead>\n",
              "    <tr style=\"text-align: right;\">\n",
              "      <th></th>\n",
              "      <th>0</th>\n",
              "      <th>1</th>\n",
              "      <th>2</th>\n",
              "      <th>3</th>\n",
              "      <th>4</th>\n",
              "    </tr>\n",
              "  </thead>\n",
              "  <tbody>\n",
              "    <tr>\n",
              "      <th>0</th>\n",
              "      <td>0</td>\n",
              "      <td>0</td>\n",
              "      <td>0</td>\n",
              "      <td>0</td>\n",
              "      <td>0</td>\n",
              "    </tr>\n",
              "    <tr>\n",
              "      <th>1</th>\n",
              "      <td>0</td>\n",
              "      <td>0</td>\n",
              "      <td>39</td>\n",
              "      <td>119</td>\n",
              "      <td>0</td>\n",
              "    </tr>\n",
              "    <tr>\n",
              "      <th>2</th>\n",
              "      <td>119</td>\n",
              "      <td>14</td>\n",
              "      <td>109</td>\n",
              "      <td>0</td>\n",
              "      <td>0</td>\n",
              "    </tr>\n",
              "    <tr>\n",
              "      <th>3</th>\n",
              "      <td>0</td>\n",
              "      <td>0</td>\n",
              "      <td>37</td>\n",
              "      <td>122</td>\n",
              "      <td>0</td>\n",
              "    </tr>\n",
              "    <tr>\n",
              "      <th>4</th>\n",
              "      <td>116</td>\n",
              "      <td>13</td>\n",
              "      <td>100</td>\n",
              "      <td>0</td>\n",
              "      <td>0</td>\n",
              "    </tr>\n",
              "  </tbody>\n",
              "</table>\n",
              "</div>\n",
              "      <button class=\"colab-df-convert\" onclick=\"convertToInteractive('df-68603fd1-12c1-4e69-b475-3866c2c1238f')\"\n",
              "              title=\"Convert this dataframe to an interactive table.\"\n",
              "              style=\"display:none;\">\n",
              "        \n",
              "  <svg xmlns=\"http://www.w3.org/2000/svg\" height=\"24px\"viewBox=\"0 0 24 24\"\n",
              "       width=\"24px\">\n",
              "    <path d=\"M0 0h24v24H0V0z\" fill=\"none\"/>\n",
              "    <path d=\"M18.56 5.44l.94 2.06.94-2.06 2.06-.94-2.06-.94-.94-2.06-.94 2.06-2.06.94zm-11 1L8.5 8.5l.94-2.06 2.06-.94-2.06-.94L8.5 2.5l-.94 2.06-2.06.94zm10 10l.94 2.06.94-2.06 2.06-.94-2.06-.94-.94-2.06-.94 2.06-2.06.94z\"/><path d=\"M17.41 7.96l-1.37-1.37c-.4-.4-.92-.59-1.43-.59-.52 0-1.04.2-1.43.59L10.3 9.45l-7.72 7.72c-.78.78-.78 2.05 0 2.83L4 21.41c.39.39.9.59 1.41.59.51 0 1.02-.2 1.41-.59l7.78-7.78 2.81-2.81c.8-.78.8-2.07 0-2.86zM5.41 20L4 18.59l7.72-7.72 1.47 1.35L5.41 20z\"/>\n",
              "  </svg>\n",
              "      </button>\n",
              "      \n",
              "  <style>\n",
              "    .colab-df-container {\n",
              "      display:flex;\n",
              "      flex-wrap:wrap;\n",
              "      gap: 12px;\n",
              "    }\n",
              "\n",
              "    .colab-df-convert {\n",
              "      background-color: #E8F0FE;\n",
              "      border: none;\n",
              "      border-radius: 50%;\n",
              "      cursor: pointer;\n",
              "      display: none;\n",
              "      fill: #1967D2;\n",
              "      height: 32px;\n",
              "      padding: 0 0 0 0;\n",
              "      width: 32px;\n",
              "    }\n",
              "\n",
              "    .colab-df-convert:hover {\n",
              "      background-color: #E2EBFA;\n",
              "      box-shadow: 0px 1px 2px rgba(60, 64, 67, 0.3), 0px 1px 3px 1px rgba(60, 64, 67, 0.15);\n",
              "      fill: #174EA6;\n",
              "    }\n",
              "\n",
              "    [theme=dark] .colab-df-convert {\n",
              "      background-color: #3B4455;\n",
              "      fill: #D2E3FC;\n",
              "    }\n",
              "\n",
              "    [theme=dark] .colab-df-convert:hover {\n",
              "      background-color: #434B5C;\n",
              "      box-shadow: 0px 1px 3px 1px rgba(0, 0, 0, 0.15);\n",
              "      filter: drop-shadow(0px 1px 2px rgba(0, 0, 0, 0.3));\n",
              "      fill: #FFFFFF;\n",
              "    }\n",
              "  </style>\n",
              "\n",
              "      <script>\n",
              "        const buttonEl =\n",
              "          document.querySelector('#df-68603fd1-12c1-4e69-b475-3866c2c1238f button.colab-df-convert');\n",
              "        buttonEl.style.display =\n",
              "          google.colab.kernel.accessAllowed ? 'block' : 'none';\n",
              "\n",
              "        async function convertToInteractive(key) {\n",
              "          const element = document.querySelector('#df-68603fd1-12c1-4e69-b475-3866c2c1238f');\n",
              "          const dataTable =\n",
              "            await google.colab.kernel.invokeFunction('convertToInteractive',\n",
              "                                                     [key], {});\n",
              "          if (!dataTable) return;\n",
              "\n",
              "          const docLinkHtml = 'Like what you see? Visit the ' +\n",
              "            '<a target=\"_blank\" href=https://colab.research.google.com/notebooks/data_table.ipynb>data table notebook</a>'\n",
              "            + ' to learn more about interactive tables.';\n",
              "          element.innerHTML = '';\n",
              "          dataTable['output_type'] = 'display_data';\n",
              "          await google.colab.output.renderOutput(dataTable, element);\n",
              "          const docLink = document.createElement('div');\n",
              "          docLink.innerHTML = docLinkHtml;\n",
              "          element.appendChild(docLink);\n",
              "        }\n",
              "      </script>\n",
              "    </div>\n",
              "  </div>\n",
              "  "
            ],
            "text/plain": [
              "     0   1    2    3  4\n",
              "0    0   0    0    0  0\n",
              "1    0   0   39  119  0\n",
              "2  119  14  109    0  0\n",
              "3    0   0   37  122  0\n",
              "4  116  13  100    0  0"
            ]
          },
          "execution_count": 25,
          "metadata": {},
          "output_type": "execute_result"
        }
      ],
      "source": [
        "df.head(5)"
      ]
    },
    {
      "cell_type": "code",
      "execution_count": 54,
      "id": "dd0c03c2",
      "metadata": {
        "colab": {
          "base_uri": "https://localhost:8080/",
          "height": 528
        },
        "execution": {
          "iopub.execute_input": "2022-03-10T21:52:41.858017Z",
          "iopub.status.busy": "2022-03-10T21:52:41.857489Z",
          "iopub.status.idle": "2022-03-10T21:52:43.251262Z",
          "shell.execute_reply": "2022-03-10T21:52:43.251695Z",
          "shell.execute_reply.started": "2022-03-10T21:33:22.804694Z"
        },
        "id": "dd0c03c2",
        "outputId": "8880e599-fde1-4f64-9810-c72eff6411a3",
        "papermill": {
          "duration": 1.413919,
          "end_time": "2022-03-10T21:52:43.251838",
          "exception": false,
          "start_time": "2022-03-10T21:52:41.837919",
          "status": "completed"
        },
        "tags": []
      },
      "outputs": [
        {
          "data": {
            "image/png": "[encoded data removed]",
            "text/plain": [
              "<Figure size 800x600 with 1 Axes>"
            ]
          },
          "metadata": {},
          "output_type": "display_data"
        }
      ],
      "source": [
        "def plot_data(data):    \n",
        "    fig, axes = plt.subplots(1, 1, figsize=(8, 6), sharex=True, sharey=True)\n",
        "    axes.plot(data)\n",
        "    axes.set_ylim([0,1000])\n",
        "        \n",
        "plot_data(df)\n"
      ]
    },
    {
      "attachments": {},
      "cell_type": "markdown",
      "id": "vZHD9fowKSJE",
      "metadata": {
        "id": "vZHD9fowKSJE"
      },
      "source": []
    },
    {
      "cell_type": "code",
      "execution_count": 27,
      "id": "3d11db3e",
      "metadata": {
        "colab": {
          "base_uri": "https://localhost:8080/"
        },
        "execution": {
          "iopub.execute_input": "2022-03-10T21:52:43.289772Z",
          "iopub.status.busy": "2022-03-10T21:52:43.288780Z",
          "iopub.status.idle": "2022-03-10T21:52:43.299615Z",
          "shell.execute_reply": "2022-03-10T21:52:43.299161Z",
          "shell.execute_reply.started": "2022-03-10T21:36:08.822521Z"
        },
        "id": "3d11db3e",
        "outputId": "69810ca1-ee07-422e-d892-39fb6a35fa34",
        "papermill": {
          "duration": 0.034669,
          "end_time": "2022-03-10T21:52:43.299747",
          "exception": false,
          "start_time": "2022-03-10T21:52:43.265078",
          "status": "completed"
        },
        "tags": []
      },
      "outputs": [
        {
          "name": "stdout",
          "output_type": "stream",
          "text": [
            "(27870, 4)\n",
            "(27870,)\n"
          ]
        }
      ],
      "source": [
        "x = df.iloc[:,:4].copy()\n",
        "y = df.iloc[:,4].copy()\n",
        "print(x.shape)\n",
        "print(y.shape)\n",
        "x_train, x_test, y_train, y_test = train_test_split(x, y, test_size=0.25, random_state=1)"
      ]
    },
    {
      "cell_type": "code",
      "execution_count": 28,
      "id": "a504b3fc",
      "metadata": {
        "execution": {
          "iopub.execute_input": "2022-03-10T21:52:43.334657Z",
          "iopub.status.busy": "2022-03-10T21:52:43.333828Z",
          "iopub.status.idle": "2022-03-10T21:52:43.347520Z",
          "shell.execute_reply": "2022-03-10T21:52:43.347041Z",
          "shell.execute_reply.started": "2022-03-10T21:36:10.518542Z"
        },
        "id": "a504b3fc",
        "papermill": {
          "duration": 0.034219,
          "end_time": "2022-03-10T21:52:43.347653",
          "exception": false,
          "start_time": "2022-03-10T21:52:43.313434",
          "status": "completed"
        },
        "tags": []
      },
      "outputs": [],
      "source": [
        "SC = StandardScaler()\n",
        "x_train = pd.DataFrame(SC.fit_transform(x_train))\n",
        "x_test = pd.DataFrame(SC.transform(x_test))"
      ]
    },
    {
      "cell_type": "code",
      "execution_count": 29,
      "id": "0721c84e",
      "metadata": {
        "colab": {
          "base_uri": "https://localhost:8080/",
          "height": 74
        },
        "execution": {
          "iopub.execute_input": "2022-03-10T21:52:43.380233Z",
          "iopub.status.busy": "2022-03-10T21:52:43.379608Z",
          "iopub.status.idle": "2022-03-10T21:53:04.964615Z",
          "shell.execute_reply": "2022-03-10T21:53:04.964130Z",
          "shell.execute_reply.started": "2022-03-10T21:39:37.976637Z"
        },
        "id": "0721c84e",
        "outputId": "638f5199-0840-4852-b3a1-fdbb6721370f",
        "papermill": {
          "duration": 21.602994,
          "end_time": "2022-03-10T21:53:04.964766",
          "exception": false,
          "start_time": "2022-03-10T21:52:43.361772",
          "status": "completed"
        },
        "tags": []
      },
      "outputs": [
        {
          "data": {
            "text/html": [
              "<style>#sk-container-id-2 {color: black;background-color: white;}#sk-container-id-2 pre{padding: 0;}#sk-container-id-2 div.sk-toggleable {background-color: white;}#sk-container-id-2 label.sk-toggleable__label {cursor: pointer;display: block;width: 100%;margin-bottom: 0;padding: 0.3em;box-sizing: border-box;text-align: center;}#sk-container-id-2 label.sk-toggleable__label-arrow:before {content: \"▸\";float: left;margin-right: 0.25em;color: #696969;}#sk-container-id-2 label.sk-toggleable__label-arrow:hover:before {color: black;}#sk-container-id-2 div.sk-estimator:hover label.sk-toggleable__label-arrow:before {color: black;}#sk-container-id-2 div.sk-toggleable__content {max-height: 0;max-width: 0;overflow: hidden;text-align: left;background-color: #f0f8ff;}#sk-container-id-2 div.sk-toggleable__content pre {margin: 0.2em;color: black;border-radius: 0.25em;background-color: #f0f8ff;}#sk-container-id-2 input.sk-toggleable__control:checked~div.sk-toggleable__content {max-height: 200px;max-width: 100%;overflow: auto;}#sk-container-id-2 input.sk-toggleable__control:checked~label.sk-toggleable__label-arrow:before {content: \"▾\";}#sk-container-id-2 div.sk-estimator input.sk-toggleable__control:checked~label.sk-toggleable__label {background-color: #d4ebff;}#sk-container-id-2 div.sk-label input.sk-toggleable__control:checked~label.sk-toggleable__label {background-color: #d4ebff;}#sk-container-id-2 input.sk-hidden--visually {border: 0;clip: rect(1px 1px 1px 1px);clip: rect(1px, 1px, 1px, 1px);height: 1px;margin: -1px;overflow: hidden;padding: 0;position: absolute;width: 1px;}#sk-container-id-2 div.sk-estimator {font-family: monospace;background-color: #f0f8ff;border: 1px dotted black;border-radius: 0.25em;box-sizing: border-box;margin-bottom: 0.5em;}#sk-container-id-2 div.sk-estimator:hover {background-color: #d4ebff;}#sk-container-id-2 div.sk-parallel-item::after {content: \"\";width: 100%;border-bottom: 1px solid gray;flex-grow: 1;}#sk-container-id-2 div.sk-label:hover label.sk-toggleable__label {background-color: #d4ebff;}#sk-container-id-2 div.sk-serial::before {content: \"\";position: absolute;border-left: 1px solid gray;box-sizing: border-box;top: 0;bottom: 0;left: 50%;z-index: 0;}#sk-container-id-2 div.sk-serial {display: flex;flex-direction: column;align-items: center;background-color: white;padding-right: 0.2em;padding-left: 0.2em;position: relative;}#sk-container-id-2 div.sk-item {position: relative;z-index: 1;}#sk-container-id-2 div.sk-parallel {display: flex;align-items: stretch;justify-content: center;background-color: white;position: relative;}#sk-container-id-2 div.sk-item::before, #sk-container-id-2 div.sk-parallel-item::before {content: \"\";position: absolute;border-left: 1px solid gray;box-sizing: border-box;top: 0;bottom: 0;left: 50%;z-index: -1;}#sk-container-id-2 div.sk-parallel-item {display: flex;flex-direction: column;z-index: 1;position: relative;background-color: white;}#sk-container-id-2 div.sk-parallel-item:first-child::after {align-self: flex-end;width: 50%;}#sk-container-id-2 div.sk-parallel-item:last-child::after {align-self: flex-start;width: 50%;}#sk-container-id-2 div.sk-parallel-item:only-child::after {width: 0;}#sk-container-id-2 div.sk-dashed-wrapped {border: 1px dashed gray;margin: 0 0.4em 0.5em 0.4em;box-sizing: border-box;padding-bottom: 0.4em;background-color: white;}#sk-container-id-2 div.sk-label label {font-family: monospace;font-weight: bold;display: inline-block;line-height: 1.2em;}#sk-container-id-2 div.sk-label-container {text-align: center;}#sk-container-id-2 div.sk-container {/* jupyter's `normalize.less` sets `[hidden] { display: none; }` but bootstrap.min.css set `[hidden] { display: none !important; }` so we also need the `!important` here to be able to override the default hidden behavior on the sphinx rendered scikit-learn.org. See: https://github.com/scikit-learn/scikit-learn/issues/21755 */display: inline-block !important;position: relative;}#sk-container-id-2 div.sk-text-repr-fallback {display: none;}</style><div id=\"sk-container-id-2\" class=\"sk-top-container\"><div class=\"sk-text-repr-fallback\"><pre>RandomForestClassifier(random_state=1)</pre><b>In a Jupyter environment, please rerun this cell to show the HTML representation or trust the notebook. <br />On GitHub, the HTML representation is unable to render, please try loading this page with nbviewer.org.</b></div><div class=\"sk-container\" hidden><div class=\"sk-item\"><div class=\"sk-estimator sk-toggleable\"><input class=\"sk-toggleable__control sk-hidden--visually\" id=\"sk-estimator-id-2\" type=\"checkbox\" checked><label for=\"sk-estimator-id-2\" class=\"sk-toggleable__label sk-toggleable__label-arrow\">RandomForestClassifier</label><div class=\"sk-toggleable__content\"><pre>RandomForestClassifier(random_state=1)</pre></div></div></div></div></div>"
            ],
            "text/plain": [
              "RandomForestClassifier(random_state=1)"
            ]
          },
          "execution_count": 29,
          "metadata": {},
          "output_type": "execute_result"
        }
      ],
      "source": [
        "model_XGB = xgb.XGBClassifier()\n",
        "model_RF = RandomForestClassifier(n_estimators = 100, random_state=1)\n",
        "model_XGB.fit(x_train, y_train)\n",
        "model_RF.fit(x_train, y_train)"
      ]
    },
    {
      "cell_type": "code",
      "execution_count": null,
      "id": "hheFMVs_VVzW",
      "metadata": {
        "id": "hheFMVs_VVzW"
      },
      "outputs": [],
      "source": [
        "!pip install catboost\n",
        "from catboost import CatBoostClassifier\n",
        "model_CB = CatBoostClassifier()\n",
        "model_CB.fit(x_train, y_train)"
      ]
    },
    {
      "cell_type": "code",
      "execution_count": 32,
      "id": "0e015de8",
      "metadata": {
        "colab": {
          "base_uri": "https://localhost:8080/"
        },
        "execution": {
          "iopub.execute_input": "2022-03-10T21:53:05.010659Z",
          "iopub.status.busy": "2022-03-10T21:53:05.009810Z",
          "iopub.status.idle": "2022-03-10T21:53:05.081112Z",
          "shell.execute_reply": "2022-03-10T21:53:05.081969Z",
          "shell.execute_reply.started": "2022-03-10T21:40:48.831296Z"
        },
        "id": "0e015de8",
        "outputId": "d0396128-e588-4a62-e343-d23452d48b3d",
        "papermill": {
          "duration": 0.093973,
          "end_time": "2022-03-10T21:53:05.082250",
          "exception": false,
          "start_time": "2022-03-10T21:53:04.988277",
          "status": "completed"
        },
        "tags": []
      },
      "outputs": [
        {
          "name": "stdout",
          "output_type": "stream",
          "text": [
            "Accuracy for RF: 95.42%\n",
            "Accuracy for XGB: 95.29%\n",
            "Accuracy for CatBoost: 95.38%\n"
          ]
        }
      ],
      "source": [
        "y_pred = model_RF.predict(x_test)\n",
        "y_p = model_XGB.predict(x_test)\n",
        "y_pred_CB = model_CB.predict(x_test)\n",
        "accuracy_CB = accuracy_score(y_test, y_pred_CB)\n",
        "accuracy = accuracy_score(y_test, [q for q in y_pred])\n",
        "accuracy_p = accuracy_score(y_test, [r for r in y_p])\n",
        "print(\"Accuracy for RF: %.2f%%\" % (accuracy * 100.0))\n",
        "print(\"Accuracy for XGB: %.2f%%\" % (accuracy_p * 100.0))\n",
        "print(\"Accuracy for CatBoost: %.2f%%\" % (accuracy_CB * 100.0))"
      ]
    },
    {
      "cell_type": "code",
      "execution_count": 33,
      "id": "3c352c63",
      "metadata": {
        "colab": {
          "base_uri": "https://localhost:8080/"
        },
        "execution": {
          "iopub.execute_input": "2022-03-10T21:53:05.120373Z",
          "iopub.status.busy": "2022-03-10T21:53:05.119726Z",
          "iopub.status.idle": "2022-03-10T21:53:10.419622Z",
          "shell.execute_reply": "2022-03-10T21:53:10.420354Z",
          "shell.execute_reply.started": "2022-03-10T21:40:56.261342Z"
        },
        "id": "3c352c63",
        "outputId": "69cf883b-9096-4550-c6cf-1f608662f78a",
        "papermill": {
          "duration": 5.321282,
          "end_time": "2022-03-10T21:53:10.420565",
          "exception": false,
          "start_time": "2022-03-10T21:53:05.099283",
          "status": "completed"
        },
        "tags": []
      },
      "outputs": [
        {
          "data": {
            "text/plain": [
              "<bound method Model.summary of <keras.engine.functional.Functional object at 0x7f3f815d6700>>"
            ]
          },
          "execution_count": 33,
          "metadata": {},
          "output_type": "execute_result"
        }
      ],
      "source": [
        "inputs = tf.keras.Input(shape=(x.shape[1],))\n",
        "x = tf.keras.layers.Dense(80, activation='relu')(inputs)\n",
        "x = tf.keras.layers.Dropout(0.2)(x)\n",
        "x = tf.keras.layers.Dense(80, activation='relu')(x)\n",
        "x = tf.keras.layers.Dropout(0.2)(x)\n",
        "outputs = tf.keras.layers.Dense(8, activation='softmax')(x)\n",
        "\n",
        "model_cnn = tf.keras.Model(inputs, outputs)"
      ]
    },
    {
      "cell_type": "code",
      "execution_count": 36,
      "id": "Cj8lUOSFW3Ut",
      "metadata": {
        "colab": {
          "base_uri": "https://localhost:8080/"
        },
        "id": "Cj8lUOSFW3Ut",
        "outputId": "c91a5954-8de0-419b-86e5-6e8febff6af3"
      },
      "outputs": [
        {
          "name": "stdout",
          "output_type": "stream",
          "text": [
            "Model: \"model_1\"\n",
            "_________________________________________________________________\n",
            " Layer (type)                Output Shape              Param #   \n",
            "=================================================================\n",
            " input_2 (InputLayer)        [(None, 4)]               0         \n",
            "                                                                 \n",
            " dense_3 (Dense)             (None, 80)                400       \n",
            "                                                                 \n",
            " dropout_2 (Dropout)         (None, 80)                0         \n",
            "                                                                 \n",
            " dense_4 (Dense)             (None, 80)                6480      \n",
            "                                                                 \n",
            " dropout_3 (Dropout)         (None, 80)                0         \n",
            "                                                                 \n",
            " dense_5 (Dense)             (None, 8)                 648       \n",
            "                                                                 \n",
            "=================================================================\n",
            "Total params: 7,528\n",
            "Trainable params: 7,528\n",
            "Non-trainable params: 0\n",
            "_________________________________________________________________\n"
          ]
        }
      ],
      "source": [
        "model_cnn.summary()"
      ]
    },
    {
      "cell_type": "code",
      "execution_count": 37,
      "id": "e145248d",
      "metadata": {
        "colab": {
          "base_uri": "https://localhost:8080/"
        },
        "execution": {
          "iopub.execute_input": "2022-03-10T21:53:10.480906Z",
          "iopub.status.busy": "2022-03-10T21:53:10.480121Z",
          "iopub.status.idle": "2022-03-10T21:53:46.542445Z",
          "shell.execute_reply": "2022-03-10T21:53:46.541991Z",
          "shell.execute_reply.started": "2022-03-10T21:41:02.791249Z"
        },
        "id": "e145248d",
        "outputId": "33262b5d-2266-47a5-a9cb-8fa9079f6eeb",
        "papermill": {
          "duration": 36.096337,
          "end_time": "2022-03-10T21:53:46.542580",
          "exception": false,
          "start_time": "2022-03-10T21:53:10.446243",
          "status": "completed"
        },
        "tags": []
      },
      "outputs": [
        {
          "name": "stdout",
          "output_type": "stream",
          "text": [
            "Epoch 1/100\n",
            "523/523 [==============================] - 4s 6ms/step - loss: 0.7556 - accuracy: 0.6989 - val_loss: 0.5100 - val_accuracy: 0.8307 - lr: 0.0010\n",
            "Epoch 2/100\n",
            "523/523 [==============================] - 1s 3ms/step - loss: 0.4410 - accuracy: 0.8301 - val_loss: 0.4522 - val_accuracy: 0.8873 - lr: 0.0010\n",
            "Epoch 3/100\n",
            "523/523 [==============================] - 1s 3ms/step - loss: 0.3626 - accuracy: 0.8685 - val_loss: 0.4593 - val_accuracy: 0.8988 - lr: 0.0010\n",
            "Epoch 4/100\n",
            "523/523 [==============================] - 2s 3ms/step - loss: 0.3274 - accuracy: 0.8807 - val_loss: 0.4413 - val_accuracy: 0.9117 - lr: 0.0010\n",
            "Epoch 5/100\n",
            "523/523 [==============================] - 1s 3ms/step - loss: 0.3103 - accuracy: 0.8939 - val_loss: 0.4419 - val_accuracy: 0.9141 - lr: 0.0010\n",
            "Epoch 6/100\n",
            "523/523 [==============================] - 1s 3ms/step - loss: 0.2886 - accuracy: 0.8975 - val_loss: 0.4454 - val_accuracy: 0.9163 - lr: 0.0010\n",
            "Epoch 7/100\n",
            "523/523 [==============================] - 1s 3ms/step - loss: 0.2758 - accuracy: 0.9019 - val_loss: 0.4805 - val_accuracy: 0.9127 - lr: 0.0010\n",
            "Epoch 8/100\n",
            "523/523 [==============================] - 1s 3ms/step - loss: 0.2721 - accuracy: 0.9087 - val_loss: 0.4580 - val_accuracy: 0.9177 - lr: 0.0010\n",
            "Epoch 9/100\n",
            "523/523 [==============================] - 2s 4ms/step - loss: 0.2610 - accuracy: 0.9072 - val_loss: 0.4581 - val_accuracy: 0.9218 - lr: 0.0010\n",
            "Epoch 10/100\n",
            "523/523 [==============================] - 2s 3ms/step - loss: 0.2509 - accuracy: 0.9125 - val_loss: 0.4899 - val_accuracy: 0.9242 - lr: 0.0010\n",
            "Epoch 11/100\n",
            "523/523 [==============================] - 1s 3ms/step - loss: 0.2544 - accuracy: 0.9130 - val_loss: 0.5012 - val_accuracy: 0.9242 - lr: 0.0010\n",
            "Epoch 12/100\n",
            "523/523 [==============================] - 1s 3ms/step - loss: 0.2393 - accuracy: 0.9153 - val_loss: 0.5218 - val_accuracy: 0.9256 - lr: 0.0010\n",
            "Epoch 13/100\n",
            "523/523 [==============================] - 1s 3ms/step - loss: 0.2381 - accuracy: 0.9180 - val_loss: 0.5349 - val_accuracy: 0.9247 - lr: 0.0010\n",
            "Epoch 14/100\n",
            "523/523 [==============================] - 1s 2ms/step - loss: 0.2356 - accuracy: 0.9202 - val_loss: 0.5768 - val_accuracy: 0.9263 - lr: 0.0010\n",
            "Epoch 15/100\n",
            "523/523 [==============================] - 2s 3ms/step - loss: 0.2290 - accuracy: 0.9195 - val_loss: 0.5511 - val_accuracy: 0.9266 - lr: 1.0000e-04\n",
            "Epoch 16/100\n",
            "523/523 [==============================] - 1s 2ms/step - loss: 0.2290 - accuracy: 0.9236 - val_loss: 0.5461 - val_accuracy: 0.9282 - lr: 1.0000e-04\n",
            "Epoch 17/100\n",
            "523/523 [==============================] - 2s 3ms/step - loss: 0.2262 - accuracy: 0.9214 - val_loss: 0.5418 - val_accuracy: 0.9271 - lr: 1.0000e-04\n",
            "Epoch 18/100\n",
            "523/523 [==============================] - 2s 4ms/step - loss: 0.2233 - accuracy: 0.9237 - val_loss: 0.5385 - val_accuracy: 0.9278 - lr: 1.0000e-04\n",
            "Epoch 19/100\n",
            "523/523 [==============================] - 1s 3ms/step - loss: 0.2202 - accuracy: 0.9229 - val_loss: 0.5431 - val_accuracy: 0.9287 - lr: 1.0000e-04\n",
            "Epoch 20/100\n",
            "523/523 [==============================] - 1s 2ms/step - loss: 0.2279 - accuracy: 0.9215 - val_loss: 0.5372 - val_accuracy: 0.9280 - lr: 1.0000e-04\n",
            "Epoch 21/100\n",
            "523/523 [==============================] - 3s 6ms/step - loss: 0.2212 - accuracy: 0.9211 - val_loss: 0.5365 - val_accuracy: 0.9273 - lr: 1.0000e-04\n",
            "Epoch 22/100\n",
            "523/523 [==============================] - 2s 3ms/step - loss: 0.2203 - accuracy: 0.9227 - val_loss: 0.5458 - val_accuracy: 0.9280 - lr: 1.0000e-04\n",
            "Epoch 23/100\n",
            "523/523 [==============================] - 2s 3ms/step - loss: 0.2182 - accuracy: 0.9245 - val_loss: 0.5496 - val_accuracy: 0.9273 - lr: 1.0000e-04\n",
            "Epoch 24/100\n",
            "523/523 [==============================] - 2s 3ms/step - loss: 0.2182 - accuracy: 0.9236 - val_loss: 0.5588 - val_accuracy: 0.9280 - lr: 1.0000e-04\n",
            "Epoch 25/100\n",
            "523/523 [==============================] - 2s 4ms/step - loss: 0.2200 - accuracy: 0.9232 - val_loss: 0.5574 - val_accuracy: 0.9282 - lr: 1.0000e-05\n",
            "Epoch 26/100\n",
            "523/523 [==============================] - 1s 3ms/step - loss: 0.2183 - accuracy: 0.9223 - val_loss: 0.5562 - val_accuracy: 0.9292 - lr: 1.0000e-05\n",
            "Epoch 27/100\n",
            "523/523 [==============================] - 2s 3ms/step - loss: 0.2194 - accuracy: 0.9221 - val_loss: 0.5554 - val_accuracy: 0.9290 - lr: 1.0000e-05\n",
            "Epoch 28/100\n",
            "523/523 [==============================] - 1s 3ms/step - loss: 0.2185 - accuracy: 0.9232 - val_loss: 0.5542 - val_accuracy: 0.9292 - lr: 1.0000e-05\n",
            "Epoch 29/100\n",
            "523/523 [==============================] - 1s 3ms/step - loss: 0.2230 - accuracy: 0.9238 - val_loss: 0.5533 - val_accuracy: 0.9282 - lr: 1.0000e-05\n",
            "Epoch 30/100\n",
            "523/523 [==============================] - 1s 3ms/step - loss: 0.2157 - accuracy: 0.9244 - val_loss: 0.5535 - val_accuracy: 0.9282 - lr: 1.0000e-05\n",
            "Epoch 31/100\n",
            "523/523 [==============================] - 2s 3ms/step - loss: 0.2177 - accuracy: 0.9245 - val_loss: 0.5540 - val_accuracy: 0.9290 - lr: 1.0000e-05\n",
            "Epoch 32/100\n",
            "523/523 [==============================] - 1s 2ms/step - loss: 0.2179 - accuracy: 0.9243 - val_loss: 0.5537 - val_accuracy: 0.9290 - lr: 1.0000e-05\n",
            "Epoch 33/100\n",
            "523/523 [==============================] - 2s 4ms/step - loss: 0.2228 - accuracy: 0.9246 - val_loss: 0.5533 - val_accuracy: 0.9287 - lr: 1.0000e-05\n",
            "Epoch 34/100\n",
            "523/523 [==============================] - 2s 3ms/step - loss: 0.2175 - accuracy: 0.9238 - val_loss: 0.5540 - val_accuracy: 0.9287 - lr: 1.0000e-05\n",
            "Epoch 35/100\n",
            "523/523 [==============================] - 1s 2ms/step - loss: 0.2164 - accuracy: 0.9239 - val_loss: 0.5540 - val_accuracy: 0.9287 - lr: 1.0000e-06\n",
            "Epoch 36/100\n",
            "523/523 [==============================] - 2s 3ms/step - loss: 0.2142 - accuracy: 0.9253 - val_loss: 0.5540 - val_accuracy: 0.9287 - lr: 1.0000e-06\n",
            "Epoch 37/100\n",
            "523/523 [==============================] - 1s 3ms/step - loss: 0.2157 - accuracy: 0.9259 - val_loss: 0.5540 - val_accuracy: 0.9287 - lr: 1.0000e-06\n",
            "Epoch 38/100\n",
            "523/523 [==============================] - 1s 3ms/step - loss: 0.2197 - accuracy: 0.9226 - val_loss: 0.5541 - val_accuracy: 0.9287 - lr: 1.0000e-06\n",
            "Epoch 39/100\n",
            "523/523 [==============================] - 2s 3ms/step - loss: 0.2235 - accuracy: 0.9251 - val_loss: 0.5541 - val_accuracy: 0.9292 - lr: 1.0000e-06\n",
            "Epoch 40/100\n",
            "523/523 [==============================] - 1s 3ms/step - loss: 0.2186 - accuracy: 0.9238 - val_loss: 0.5542 - val_accuracy: 0.9287 - lr: 1.0000e-06\n",
            "Epoch 41/100\n",
            "523/523 [==============================] - 2s 4ms/step - loss: 0.2167 - accuracy: 0.9238 - val_loss: 0.5542 - val_accuracy: 0.9287 - lr: 1.0000e-06\n",
            "Epoch 42/100\n",
            "523/523 [==============================] - 2s 4ms/step - loss: 0.2185 - accuracy: 0.9227 - val_loss: 0.5543 - val_accuracy: 0.9287 - lr: 1.0000e-06\n",
            "Epoch 43/100\n",
            "523/523 [==============================] - 2s 3ms/step - loss: 0.2175 - accuracy: 0.9229 - val_loss: 0.5543 - val_accuracy: 0.9287 - lr: 1.0000e-06\n",
            "Epoch 44/100\n",
            "523/523 [==============================] - 1s 3ms/step - loss: 0.2223 - accuracy: 0.9229 - val_loss: 0.5541 - val_accuracy: 0.9292 - lr: 1.0000e-06\n",
            "Epoch 45/100\n",
            "523/523 [==============================] - 1s 3ms/step - loss: 0.2173 - accuracy: 0.9229 - val_loss: 0.5541 - val_accuracy: 0.9287 - lr: 1.0000e-07\n",
            "Epoch 46/100\n",
            "523/523 [==============================] - 1s 3ms/step - loss: 0.2171 - accuracy: 0.9262 - val_loss: 0.5541 - val_accuracy: 0.9287 - lr: 1.0000e-07\n",
            "Epoch 47/100\n",
            "523/523 [==============================] - 1s 3ms/step - loss: 0.2162 - accuracy: 0.9248 - val_loss: 0.5541 - val_accuracy: 0.9287 - lr: 1.0000e-07\n",
            "Epoch 48/100\n",
            "523/523 [==============================] - 1s 3ms/step - loss: 0.2147 - accuracy: 0.9229 - val_loss: 0.5541 - val_accuracy: 0.9287 - lr: 1.0000e-07\n",
            "Epoch 49/100\n",
            "523/523 [==============================] - 2s 4ms/step - loss: 0.2201 - accuracy: 0.9249 - val_loss: 0.5541 - val_accuracy: 0.9287 - lr: 1.0000e-07\n",
            "Epoch 50/100\n",
            "523/523 [==============================] - 2s 4ms/step - loss: 0.2184 - accuracy: 0.9227 - val_loss: 0.5541 - val_accuracy: 0.9287 - lr: 1.0000e-07\n",
            "Epoch 51/100\n",
            "523/523 [==============================] - 2s 3ms/step - loss: 0.2173 - accuracy: 0.9250 - val_loss: 0.5541 - val_accuracy: 0.9287 - lr: 1.0000e-07\n",
            "Epoch 52/100\n",
            "523/523 [==============================] - 3s 6ms/step - loss: 0.2227 - accuracy: 0.9223 - val_loss: 0.5541 - val_accuracy: 0.9287 - lr: 1.0000e-07\n",
            "Epoch 53/100\n",
            "523/523 [==============================] - 1s 3ms/step - loss: 0.2206 - accuracy: 0.9233 - val_loss: 0.5541 - val_accuracy: 0.9287 - lr: 1.0000e-07\n",
            "Epoch 54/100\n",
            "523/523 [==============================] - 1s 3ms/step - loss: 0.2167 - accuracy: 0.9242 - val_loss: 0.5541 - val_accuracy: 0.9287 - lr: 1.0000e-07\n",
            "Epoch 55/100\n",
            "523/523 [==============================] - 2s 3ms/step - loss: 0.2197 - accuracy: 0.9220 - val_loss: 0.5541 - val_accuracy: 0.9287 - lr: 1.0000e-08\n",
            "Epoch 56/100\n",
            "523/523 [==============================] - 2s 4ms/step - loss: 0.2219 - accuracy: 0.9236 - val_loss: 0.5541 - val_accuracy: 0.9287 - lr: 1.0000e-08\n",
            "Epoch 57/100\n",
            "523/523 [==============================] - 2s 3ms/step - loss: 0.2228 - accuracy: 0.9223 - val_loss: 0.5541 - val_accuracy: 0.9287 - lr: 1.0000e-08\n",
            "Epoch 58/100\n",
            "523/523 [==============================] - 2s 3ms/step - loss: 0.2161 - accuracy: 0.9251 - val_loss: 0.5541 - val_accuracy: 0.9287 - lr: 1.0000e-08\n",
            "Epoch 59/100\n",
            "523/523 [==============================] - 1s 3ms/step - loss: 0.2168 - accuracy: 0.9255 - val_loss: 0.5541 - val_accuracy: 0.9287 - lr: 1.0000e-08\n",
            "Epoch 60/100\n",
            "523/523 [==============================] - 1s 3ms/step - loss: 0.2177 - accuracy: 0.9246 - val_loss: 0.5541 - val_accuracy: 0.9287 - lr: 1.0000e-08\n",
            "Epoch 61/100\n",
            "523/523 [==============================] - 1s 2ms/step - loss: 0.2191 - accuracy: 0.9221 - val_loss: 0.5541 - val_accuracy: 0.9287 - lr: 1.0000e-08\n",
            "Epoch 62/100\n",
            "523/523 [==============================] - 1s 3ms/step - loss: 0.2209 - accuracy: 0.9234 - val_loss: 0.5541 - val_accuracy: 0.9287 - lr: 1.0000e-08\n",
            "Epoch 63/100\n",
            "523/523 [==============================] - 1s 3ms/step - loss: 0.2185 - accuracy: 0.9250 - val_loss: 0.5541 - val_accuracy: 0.9287 - lr: 1.0000e-08\n",
            "Epoch 64/100\n",
            "523/523 [==============================] - 2s 4ms/step - loss: 0.2209 - accuracy: 0.9237 - val_loss: 0.5541 - val_accuracy: 0.9287 - lr: 1.0000e-08\n",
            "Epoch 65/100\n",
            "523/523 [==============================] - 2s 4ms/step - loss: 0.2231 - accuracy: 0.9209 - val_loss: 0.5541 - val_accuracy: 0.9287 - lr: 1.0000e-09\n",
            "Epoch 66/100\n",
            "523/523 [==============================] - 1s 3ms/step - loss: 0.2160 - accuracy: 0.9229 - val_loss: 0.5541 - val_accuracy: 0.9287 - lr: 1.0000e-09\n",
            "Epoch 67/100\n",
            "523/523 [==============================] - 2s 3ms/step - loss: 0.2177 - accuracy: 0.9224 - val_loss: 0.5541 - val_accuracy: 0.9287 - lr: 1.0000e-09\n",
            "Epoch 68/100\n",
            "523/523 [==============================] - 2s 3ms/step - loss: 0.2192 - accuracy: 0.9239 - val_loss: 0.5541 - val_accuracy: 0.9287 - lr: 1.0000e-09\n",
            "Epoch 69/100\n",
            "523/523 [==============================] - 1s 3ms/step - loss: 0.2197 - accuracy: 0.9248 - val_loss: 0.5541 - val_accuracy: 0.9287 - lr: 1.0000e-09\n",
            "Epoch 70/100\n",
            "523/523 [==============================] - 1s 2ms/step - loss: 0.2152 - accuracy: 0.9252 - val_loss: 0.5541 - val_accuracy: 0.9287 - lr: 1.0000e-09\n",
            "Epoch 71/100\n",
            "523/523 [==============================] - 1s 3ms/step - loss: 0.2207 - accuracy: 0.9232 - val_loss: 0.5541 - val_accuracy: 0.9287 - lr: 1.0000e-09\n",
            "Epoch 72/100\n",
            "523/523 [==============================] - 2s 4ms/step - loss: 0.2170 - accuracy: 0.9279 - val_loss: 0.5541 - val_accuracy: 0.9287 - lr: 1.0000e-09\n",
            "Epoch 73/100\n",
            "523/523 [==============================] - 2s 3ms/step - loss: 0.2221 - accuracy: 0.9235 - val_loss: 0.5541 - val_accuracy: 0.9287 - lr: 1.0000e-09\n",
            "Epoch 74/100\n",
            "523/523 [==============================] - 2s 3ms/step - loss: 0.2183 - accuracy: 0.9227 - val_loss: 0.5541 - val_accuracy: 0.9287 - lr: 1.0000e-09\n",
            "Epoch 75/100\n",
            "523/523 [==============================] - 1s 3ms/step - loss: 0.2176 - accuracy: 0.9235 - val_loss: 0.5541 - val_accuracy: 0.9287 - lr: 1.0000e-10\n",
            "Epoch 76/100\n",
            "523/523 [==============================] - 1s 3ms/step - loss: 0.2182 - accuracy: 0.9229 - val_loss: 0.5541 - val_accuracy: 0.9287 - lr: 1.0000e-10\n",
            "Epoch 77/100\n",
            "523/523 [==============================] - 2s 3ms/step - loss: 0.2154 - accuracy: 0.9258 - val_loss: 0.5541 - val_accuracy: 0.9287 - lr: 1.0000e-10\n",
            "Epoch 78/100\n",
            "523/523 [==============================] - 1s 3ms/step - loss: 0.2191 - accuracy: 0.9240 - val_loss: 0.5541 - val_accuracy: 0.9287 - lr: 1.0000e-10\n",
            "Epoch 79/100\n",
            "523/523 [==============================] - 1s 3ms/step - loss: 0.2190 - accuracy: 0.9217 - val_loss: 0.5541 - val_accuracy: 0.9287 - lr: 1.0000e-10\n",
            "Epoch 80/100\n",
            "523/523 [==============================] - 2s 4ms/step - loss: 0.2137 - accuracy: 0.9229 - val_loss: 0.5541 - val_accuracy: 0.9287 - lr: 1.0000e-10\n",
            "Epoch 81/100\n",
            "523/523 [==============================] - 2s 4ms/step - loss: 0.2153 - accuracy: 0.9258 - val_loss: 0.5541 - val_accuracy: 0.9287 - lr: 1.0000e-10\n",
            "Epoch 82/100\n",
            "523/523 [==============================] - 2s 3ms/step - loss: 0.2173 - accuracy: 0.9243 - val_loss: 0.5541 - val_accuracy: 0.9287 - lr: 1.0000e-10\n",
            "Epoch 83/100\n",
            "523/523 [==============================] - 1s 3ms/step - loss: 0.2150 - accuracy: 0.9243 - val_loss: 0.5541 - val_accuracy: 0.9287 - lr: 1.0000e-10\n",
            "Epoch 84/100\n",
            "523/523 [==============================] - 2s 3ms/step - loss: 0.2167 - accuracy: 0.9246 - val_loss: 0.5541 - val_accuracy: 0.9287 - lr: 1.0000e-10\n",
            "Epoch 85/100\n",
            "523/523 [==============================] - 1s 3ms/step - loss: 0.2205 - accuracy: 0.9237 - val_loss: 0.5541 - val_accuracy: 0.9287 - lr: 1.0000e-11\n",
            "Epoch 86/100\n",
            "523/523 [==============================] - 2s 3ms/step - loss: 0.2189 - accuracy: 0.9252 - val_loss: 0.5541 - val_accuracy: 0.9287 - lr: 1.0000e-11\n",
            "Epoch 87/100\n",
            "523/523 [==============================] - 2s 3ms/step - loss: 0.2147 - accuracy: 0.9237 - val_loss: 0.5541 - val_accuracy: 0.9287 - lr: 1.0000e-11\n",
            "Epoch 88/100\n",
            "523/523 [==============================] - 3s 5ms/step - loss: 0.2224 - accuracy: 0.9235 - val_loss: 0.5541 - val_accuracy: 0.9287 - lr: 1.0000e-11\n",
            "Epoch 89/100\n",
            "523/523 [==============================] - 1s 3ms/step - loss: 0.2188 - accuracy: 0.9234 - val_loss: 0.5541 - val_accuracy: 0.9287 - lr: 1.0000e-11\n",
            "Epoch 90/100\n",
            "523/523 [==============================] - 1s 3ms/step - loss: 0.2186 - accuracy: 0.9246 - val_loss: 0.5541 - val_accuracy: 0.9287 - lr: 1.0000e-11\n",
            "Epoch 91/100\n",
            "523/523 [==============================] - 1s 3ms/step - loss: 0.2193 - accuracy: 0.9255 - val_loss: 0.5541 - val_accuracy: 0.9287 - lr: 1.0000e-11\n",
            "Epoch 92/100\n",
            "523/523 [==============================] - 1s 2ms/step - loss: 0.2167 - accuracy: 0.9228 - val_loss: 0.5541 - val_accuracy: 0.9287 - lr: 1.0000e-11\n",
            "Epoch 93/100\n",
            "523/523 [==============================] - 1s 3ms/step - loss: 0.2165 - accuracy: 0.9230 - val_loss: 0.5541 - val_accuracy: 0.9287 - lr: 1.0000e-11\n",
            "Epoch 94/100\n",
            "523/523 [==============================] - 3s 5ms/step - loss: 0.2170 - accuracy: 0.9263 - val_loss: 0.5541 - val_accuracy: 0.9287 - lr: 1.0000e-11\n",
            "Epoch 95/100\n",
            "523/523 [==============================] - 3s 6ms/step - loss: 0.2188 - accuracy: 0.9244 - val_loss: 0.5541 - val_accuracy: 0.9287 - lr: 1.0000e-12\n",
            "Epoch 96/100\n",
            "523/523 [==============================] - 3s 6ms/step - loss: 0.2167 - accuracy: 0.9239 - val_loss: 0.5541 - val_accuracy: 0.9287 - lr: 1.0000e-12\n",
            "Epoch 97/100\n",
            "523/523 [==============================] - 2s 4ms/step - loss: 0.2187 - accuracy: 0.9235 - val_loss: 0.5541 - val_accuracy: 0.9287 - lr: 1.0000e-12\n",
            "Epoch 98/100\n",
            "523/523 [==============================] - 2s 3ms/step - loss: 0.2140 - accuracy: 0.9256 - val_loss: 0.5541 - val_accuracy: 0.9287 - lr: 1.0000e-12\n",
            "Epoch 99/100\n",
            "523/523 [==============================] - 2s 3ms/step - loss: 0.2188 - accuracy: 0.9227 - val_loss: 0.5541 - val_accuracy: 0.9287 - lr: 1.0000e-12\n",
            "Epoch 100/100\n",
            "523/523 [==============================] - 1s 3ms/step - loss: 0.2155 - accuracy: 0.9236 - val_loss: 0.5541 - val_accuracy: 0.9287 - lr: 1.0000e-12\n"
          ]
        }
      ],
      "source": [
        "model_cnn.compile(\n",
        "    optimizer='adam',\n",
        "    loss='sparse_categorical_crossentropy',\n",
        "    metrics=['accuracy']\n",
        ")\n",
        "\n",
        "batch_size = 32\n",
        "epochs = 100\n",
        "\n",
        "history = model_cnn.fit(\n",
        "    x_train,\n",
        "    y_train,\n",
        "    validation_split=0.2,\n",
        "    batch_size=batch_size,\n",
        "    epochs=epochs,\n",
        "    callbacks=[\n",
        "        tf.keras.callbacks.ReduceLROnPlateau()\n",
        "    ]\n",
        ")"
      ]
    },
    {
      "cell_type": "code",
      "execution_count": 38,
      "id": "cb7984b2",
      "metadata": {
        "colab": {
          "base_uri": "https://localhost:8080/",
          "height": 472
        },
        "execution": {
          "iopub.execute_input": "2022-03-10T21:53:47.063433Z",
          "iopub.status.busy": "2022-03-10T21:53:47.054226Z",
          "iopub.status.idle": "2022-03-10T21:53:47.214175Z",
          "shell.execute_reply": "2022-03-10T21:53:47.214600Z",
          "shell.execute_reply.started": "2022-03-10T21:41:43.443381Z"
        },
        "id": "cb7984b2",
        "outputId": "3e508fed-1a6a-4408-b684-fd7d524a8b0f",
        "papermill": {
          "duration": 0.436708,
          "end_time": "2022-03-10T21:53:47.214753",
          "exception": false,
          "start_time": "2022-03-10T21:53:46.778045",
          "status": "completed"
        },
        "tags": []
      },
      "outputs": [
        {
          "data": {
            "image/png": "[encoded data removed]",
            "text/plain": [
              "<Figure size 640x480 with 1 Axes>"
            ]
          },
          "metadata": {},
          "output_type": "display_data"
        }
      ],
      "source": [
        "plt.plot(range(epochs), history.history['loss'], label=\"Training Loss\")\n",
        "plt.plot(range(epochs), history.history['val_loss'], label=\"Validation Loss\")\n",
        "\n",
        "plt.xlabel(\"Epoch\")\n",
        "plt.ylabel(\"Loss\")\n",
        "plt.legend()\n",
        "plt.title(\"Loss Over Time\")\n",
        "\n",
        "plt.show()"
      ]
    },
    {
      "cell_type": "code",
      "execution_count": 1,
      "id": "610b2dbf",
      "metadata": {
        "colab": {
          "base_uri": "https://localhost:8080/",
          "height": 1000
        },
        "execution": {
          "iopub.execute_input": "2022-03-10T21:53:47.695119Z",
          "iopub.status.busy": "2022-03-10T21:53:47.694274Z",
          "iopub.status.idle": "2022-03-10T21:53:48.720159Z",
          "shell.execute_reply": "2022-03-10T21:53:48.719736Z",
          "shell.execute_reply.started": "2022-03-10T21:50:13.246411Z"
        },
        "id": "610b2dbf",
        "outputId": "da497853-4f12-4d04-ae0e-d5c9b7dc67bc",
        "papermill": {
          "duration": 1.270263,
          "end_time": "2022-03-10T21:53:48.720286",
          "exception": false,
          "start_time": "2022-03-10T21:53:47.450023",
          "status": "completed"
        },
        "tags": []
      },
      "outputs": [
        {
          "ename": "NameError",
          "evalue": "name 'np' is not defined",
          "output_type": "error",
          "traceback": [
            "\u001b[1;31m---------------------------------------------------------------------------\u001b[0m",
            "\u001b[1;31mNameError\u001b[0m                                 Traceback (most recent call last)",
            "\u001b[1;32m~\\AppData\\Local\\Temp\\ipykernel_21128\\4156514591.py\u001b[0m in \u001b[0;36m<module>\u001b[1;34m\u001b[0m\n\u001b[0;32m      2\u001b[0m \u001b[1;33m\u001b[0m\u001b[0m\n\u001b[0;32m      3\u001b[0m \u001b[1;31m# Confusion matrix for Random Forest\u001b[0m\u001b[1;33m\u001b[0m\u001b[1;33m\u001b[0m\u001b[0m\n\u001b[1;32m----> 4\u001b[1;33m \u001b[0my_true\u001b[0m \u001b[1;33m=\u001b[0m \u001b[0mnp\u001b[0m\u001b[1;33m.\u001b[0m\u001b[0marray\u001b[0m\u001b[1;33m(\u001b[0m\u001b[0my_test\u001b[0m\u001b[1;33m)\u001b[0m\u001b[1;33m\u001b[0m\u001b[0m\n\u001b[0m\u001b[0;32m      5\u001b[0m \u001b[0my_pred\u001b[0m \u001b[1;33m=\u001b[0m \u001b[0mnp\u001b[0m\u001b[1;33m.\u001b[0m\u001b[0marray\u001b[0m\u001b[1;33m(\u001b[0m\u001b[0mmodel_RF\u001b[0m\u001b[1;33m.\u001b[0m\u001b[0mpredict\u001b[0m\u001b[1;33m(\u001b[0m\u001b[0mx_test\u001b[0m\u001b[1;33m)\u001b[0m\u001b[1;33m)\u001b[0m\u001b[1;33m\u001b[0m\u001b[0m\n\u001b[0;32m      6\u001b[0m \u001b[0mcm_rf\u001b[0m \u001b[1;33m=\u001b[0m \u001b[0mconfusion_matrix\u001b[0m\u001b[1;33m(\u001b[0m\u001b[0my_true\u001b[0m\u001b[1;33m,\u001b[0m \u001b[0my_pred\u001b[0m\u001b[1;33m)\u001b[0m\u001b[1;33m\u001b[0m\u001b[0m\n",
            "\u001b[1;31mNameError\u001b[0m: name 'np' is not defined"
          ]
        }
      ],
      "source": [
        "from sklearn.metrics import confusion_matrix\n",
        "\n",
        "# Confusion matrix for Random Forest\n",
        "y_true = np.array(y_test)\n",
        "y_pred = np.array(model_RF.predict(x_test))\n",
        "cm_rf = confusion_matrix(y_true, y_pred)\n",
        "plt.figure(figsize = (15,8))\n",
        "sns.heatmap(cm_rf, annot=True, fmt='g', cmap='gist_heat', cbar=True)\n",
        "plt.xlabel(\"Predicted\")\n",
        "plt.ylabel(\"Actual\")\n",
        "plt.title(\"Confusion Matrix for Random Forest\")\n",
        "plt.show()\n",
        "\n",
        "# Confusion matrix for XGBoost\n",
        "y_pred_xgb = np.array(model_XGB.predict(x_test))\n",
        "cm_xgb = confusion_matrix(y_true, y_pred_xgb)\n",
        "plt.figure(figsize = (15,8))\n",
        "sns.heatmap(cm_xgb, annot=True, fmt='g', cmap='gist_heat',cbar=True)\n",
        "plt.xlabel(\"Predicted\")\n",
        "plt.ylabel(\"Actual\")\n",
        "plt.title(\"Confusion Matrix for XGBoost\")\n",
        "plt.show()\n",
        "\n",
        "# Confusion matrix for CatBoostClassifier\n",
        "y_pred_cb = np.array(model_CB.predict(x_test))\n",
        "cm_cb = confusion_matrix(y_true, y_pred_cb)\n",
        "plt.figure(figsize = (15,8))\n",
        "sns.heatmap(cm_cb, annot=True, fmt='g', cmap='gist_heat',cbar=True)\n",
        "plt.xlabel(\"Predicted\")\n",
        "plt.ylabel(\"Actual\")\n",
        "plt.title(\"Confusion Matrix for CatBoostClassifier\")\n",
        "plt.show()\n",
        "\n",
        "# Confusion matrix for CNN model\n",
        "y_pred_cnn = np.argmax(model_cnn.predict(x_test), axis=-1)\n",
        "cm_cnn = confusion_matrix(y_true, y_pred_cnn)\n",
        "plt.figure(figsize = (15,8))\n",
        "sns.heatmap(cm_cnn, annot=True, fmt='g', cmap='gist_heat',cbar=True)\n",
        "plt.xlabel(\"Predicted\")\n",
        "plt.ylabel(\"Actual\")\n",
        "plt.title(\"Confusion Matrix for FCNN model\")\n",
        "plt.show()\n"
      ]
    },
    {
      "cell_type": "code",
      "execution_count": 40,
      "id": "8sfNm9HnrLjF",
      "metadata": {
        "id": "8sfNm9HnrLjF"
      },
      "outputs": [],
      "source": [
        "model_cnn.save('cnn_model.h5')\n"
      ]
    }
  ],
  "metadata": {
    "colab": {
      "provenance": []
    },
    "kernelspec": {
      "display_name": "Python 3",
      "language": "python",
      "name": "python3"
    },
    "language_info": {
      "codemirror_mode": {
        "name": "ipython",
        "version": 3
      },
      "file_extension": ".py",
      "mimetype": "text/x-python",
      "name": "python",
      "nbconvert_exporter": "python",
      "pygments_lexer": "ipython3",
      "version": "3.7.0"
    },
    "papermill": {
      "default_parameters": {},
      "duration": 84.415418,
      "end_time": "2022-03-10T21:53:51.759810",
      "environment_variables": {},
      "exception": null,
      "input_path": "__notebook__.ipynb",
      "output_path": "__notebook__.ipynb",
      "parameters": {},
      "start_time": "2022-03-10T21:52:27.344392",
      "version": "2.3.3"
    }
  },
  "nbformat": 4,
  "nbformat_minor": 5
}
