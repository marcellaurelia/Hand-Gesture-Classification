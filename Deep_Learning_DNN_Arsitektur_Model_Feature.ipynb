{
  "cells": [
    {
      "cell_type": "code",
      "execution_count": 1,
      "metadata": {
        "id": "D9OcnSrYU_Pk"
      },
      "outputs": [],
      "source": [
        "import pandas as pd\n",
        "import numpy as np"
      ]
    },
    {
      "cell_type": "code",
      "execution_count": 2,
      "metadata": {
        "id": "FNkvGLjge8wF"
      },
      "outputs": [],
      "source": [
        "file_path = r'C:\\Users\\Lenovo\\Documents\\KULIAH\\semester 6\\Analisis Sinyal Biomedis\\all feature & labelling.csv'\n",
        "df = pd.read_csv(file_path, header=None, sep =\";\")\n",
        "df = df.apply(pd.to_numeric, errors='coerce')\n",
        "df = df.dropna()"
      ]
    },
    {
      "cell_type": "code",
      "execution_count": 3,
      "metadata": {
        "colab": {
          "base_uri": "https://localhost:8080/"
        },
        "id": "iIrQYrSQe9qM",
        "outputId": "6acc859a-40ab-4e1c-bbb2-6e91d579f5d1"
      },
      "outputs": [
        {
          "name": "stdout",
          "output_type": "stream",
          "text": [
            "(24297, 3)\n",
            "(24297,)\n"
          ]
        }
      ],
      "source": [
        "from sklearn.model_selection import train_test_split\n",
        "from sklearn.preprocessing import StandardScaler\n",
        "x = df.iloc[:,:3].copy()\n",
        "y = df.iloc[:,3].copy()\n",
        "print(x.shape)\n",
        "print(y.shape)\n",
        "x_train, x_test, y_train, y_test = train_test_split(x, y, test_size=0.25, random_state=1)"
      ]
    },
    {
      "cell_type": "code",
      "execution_count": 4,
      "metadata": {
        "id": "zqYmE8lwe_5E"
      },
      "outputs": [],
      "source": [
        "SC = StandardScaler()\n",
        "x_train = pd.DataFrame(SC.fit_transform(x_train))\n",
        "x_test = pd.DataFrame(SC.transform(x_test))"
      ]
    },
    {
      "cell_type": "code",
      "execution_count": 5,
      "metadata": {
        "colab": {
          "base_uri": "https://localhost:8080/"
        },
        "id": "GlLfRAXxfBI8",
        "outputId": "7d0244e9-e78d-4096-e2ce-2139cd5c372d"
      },
      "outputs": [
        {
          "name": "stdout",
          "output_type": "stream",
          "text": [
            "Model: \"model\"\n",
            "_________________________________________________________________\n",
            " Layer (type)                Output Shape              Param #   \n",
            "=================================================================\n",
            " input_1 (InputLayer)        [(None, 3)]               0         \n",
            "                                                                 \n",
            " dense (Dense)               (None, 64)                256       \n",
            "                                                                 \n",
            " dense_1 (Dense)             (None, 64)                4160      \n",
            "                                                                 \n",
            " dense_2 (Dense)             (None, 64)                4160      \n",
            "                                                                 \n",
            " dense_3 (Dense)             (None, 64)                4160      \n",
            "                                                                 \n",
            " dense_4 (Dense)             (None, 64)                4160      \n",
            "                                                                 \n",
            " dense_5 (Dense)             (None, 64)                4160      \n",
            "                                                                 \n",
            " dense_6 (Dense)             (None, 64)                4160      \n",
            "                                                                 \n",
            " dense_7 (Dense)             (None, 64)                4160      \n",
            "                                                                 \n",
            " dense_8 (Dense)             (None, 64)                4160      \n",
            "                                                                 \n",
            " dense_9 (Dense)             (None, 64)                4160      \n",
            "                                                                 \n",
            " dense_10 (Dense)            (None, 64)                4160      \n",
            "                                                                 \n",
            " dense_11 (Dense)            (None, 128)               8320      \n",
            "                                                                 \n",
            " dropout (Dropout)           (None, 128)               0         \n",
            "                                                                 \n",
            " dense_12 (Dense)            (None, 64)                8256      \n",
            "                                                                 \n",
            " dropout_1 (Dropout)         (None, 64)                0         \n",
            "                                                                 \n",
            " dense_13 (Dense)            (None, 3)                 195       \n",
            "                                                                 \n",
            "=================================================================\n",
            "Total params: 58,627\n",
            "Trainable params: 58,627\n",
            "Non-trainable params: 0\n",
            "_________________________________________________________________\n"
          ]
        }
      ],
      "source": [
        "import tensorflow as tf\n",
        "\n",
        "inputs = tf.keras.Input(shape=(3,))\n",
        "x = tf.keras.layers.Dense(64, activation='relu')(inputs)\n",
        "x = tf.keras.layers.Dense(64, activation='relu')(x)\n",
        "x = tf.keras.layers.Dense(64, activation='relu')(x)\n",
        "x = tf.keras.layers.Dense(64, activation='relu')(x)\n",
        "x = tf.keras.layers.Dense(64, activation='relu')(x)\n",
        "x = tf.keras.layers.Dense(64, activation='relu')(x)\n",
        "x = tf.keras.layers.Dense(64, activation='relu')(x)\n",
        "x = tf.keras.layers.Dense(64, activation='relu')(x)\n",
        "x = tf.keras.layers.Dense(64, activation='relu')(x)\n",
        "x = tf.keras.layers.Dense(64, activation='relu')(x)\n",
        "x = tf.keras.layers.Dense(64, activation='relu')(x)\n",
        "\n",
        "# Dense layers\n",
        "x = tf.keras.layers.Dense(128, activation='relu')(x)\n",
        "x = tf.keras.layers.Dropout(0.2)(x)\n",
        "x = tf.keras.layers.Dense(64, activation='relu')(x)\n",
        "x = tf.keras.layers.Dropout(0.2)(x)\n",
        "outputs = tf.keras.layers.Dense(3, activation='softmax')(x)\n",
        "\n",
        "model_dnn = tf.keras.Model(inputs, outputs)\n",
        "model_dnn.summary()\n"
      ]
    },
    {
      "cell_type": "code",
      "execution_count": 6,
      "metadata": {
        "id": "3_MNDYHyfClo"
      },
      "outputs": [],
      "source": [
        "model_dnn.compile(\n",
        "    optimizer='adam',\n",
        "    loss='sparse_categorical_crossentropy',\n",
        "    metrics=['accuracy']\n",
        ")\n"
      ]
    },
    {
      "cell_type": "code",
      "execution_count": 7,
      "metadata": {
        "colab": {
          "base_uri": "https://localhost:8080/"
        },
        "id": "e5KZTQocfEZR",
        "outputId": "031732b8-01a8-4ea1-8df1-d6fe9d0af25f"
      },
      "outputs": [
        {
          "name": "stdout",
          "output_type": "stream",
          "text": [
            "Epoch 1/100\n",
            "456/456 [==============================] - 9s 11ms/step - loss: 0.5639 - accuracy: 0.7588 - val_loss: 0.4558 - val_accuracy: 0.8266 - lr: 0.0010\n",
            "Epoch 2/100\n",
            "456/456 [==============================] - 4s 8ms/step - loss: 0.4352 - accuracy: 0.8385 - val_loss: 0.4343 - val_accuracy: 0.8285 - lr: 0.0010\n",
            "Epoch 3/100\n",
            "456/456 [==============================] - 4s 8ms/step - loss: 0.4027 - accuracy: 0.8501 - val_loss: 0.4150 - val_accuracy: 0.8362 - lr: 0.0010\n",
            "Epoch 4/100\n",
            "456/456 [==============================] - 3s 8ms/step - loss: 0.3858 - accuracy: 0.8572 - val_loss: 0.3610 - val_accuracy: 0.8595 - lr: 0.0010\n",
            "Epoch 5/100\n",
            "456/456 [==============================] - 6s 14ms/step - loss: 0.3680 - accuracy: 0.8620 - val_loss: 0.4551 - val_accuracy: 0.8480 - lr: 0.0010\n",
            "Epoch 6/100\n",
            "456/456 [==============================] - 3s 7ms/step - loss: 0.3624 - accuracy: 0.8634 - val_loss: 0.3779 - val_accuracy: 0.8532 - lr: 0.0010\n",
            "Epoch 7/100\n",
            "456/456 [==============================] - 3s 8ms/step - loss: 0.3460 - accuracy: 0.8690 - val_loss: 0.3776 - val_accuracy: 0.8634 - lr: 0.0010\n",
            "Epoch 8/100\n",
            "456/456 [==============================] - 4s 8ms/step - loss: 0.3408 - accuracy: 0.8696 - val_loss: 0.3546 - val_accuracy: 0.8554 - lr: 0.0010\n",
            "Epoch 9/100\n",
            "456/456 [==============================] - 4s 9ms/step - loss: 0.3373 - accuracy: 0.8721 - val_loss: 0.3212 - val_accuracy: 0.8763 - lr: 0.0010\n",
            "Epoch 10/100\n",
            "456/456 [==============================] - 4s 9ms/step - loss: 0.3241 - accuracy: 0.8778 - val_loss: 0.3908 - val_accuracy: 0.8571 - lr: 0.0010\n",
            "Epoch 11/100\n",
            "456/456 [==============================] - 4s 9ms/step - loss: 0.3292 - accuracy: 0.8760 - val_loss: 0.3169 - val_accuracy: 0.8752 - lr: 0.0010\n",
            "Epoch 12/100\n",
            "456/456 [==============================] - 4s 9ms/step - loss: 0.3222 - accuracy: 0.8812 - val_loss: 0.3129 - val_accuracy: 0.8760 - lr: 0.0010\n",
            "Epoch 13/100\n",
            "456/456 [==============================] - 6s 12ms/step - loss: 0.3273 - accuracy: 0.8803 - val_loss: 0.3166 - val_accuracy: 0.8798 - lr: 0.0010\n",
            "Epoch 14/100\n",
            "456/456 [==============================] - 4s 8ms/step - loss: 0.3176 - accuracy: 0.8805 - val_loss: 0.3051 - val_accuracy: 0.8801 - lr: 0.0010\n",
            "Epoch 15/100\n",
            "456/456 [==============================] - 4s 8ms/step - loss: 0.3139 - accuracy: 0.8813 - val_loss: 0.2932 - val_accuracy: 0.8897 - lr: 0.0010\n",
            "Epoch 16/100\n",
            "456/456 [==============================] - 4s 9ms/step - loss: 0.3130 - accuracy: 0.8821 - val_loss: 0.3544 - val_accuracy: 0.8708 - lr: 0.0010\n",
            "Epoch 17/100\n",
            "456/456 [==============================] - 6s 12ms/step - loss: 0.3073 - accuracy: 0.8844 - val_loss: 0.2916 - val_accuracy: 0.8900 - lr: 0.0010\n",
            "Epoch 18/100\n",
            "456/456 [==============================] - 4s 9ms/step - loss: 0.3067 - accuracy: 0.8841 - val_loss: 0.2968 - val_accuracy: 0.8850 - lr: 0.0010\n",
            "Epoch 19/100\n",
            "456/456 [==============================] - 4s 9ms/step - loss: 0.3079 - accuracy: 0.8825 - val_loss: 0.3091 - val_accuracy: 0.8801 - lr: 0.0010\n",
            "Epoch 20/100\n",
            "456/456 [==============================] - 4s 10ms/step - loss: 0.3008 - accuracy: 0.8855 - val_loss: 0.3018 - val_accuracy: 0.8807 - lr: 0.0010\n",
            "Epoch 21/100\n",
            "456/456 [==============================] - 4s 9ms/step - loss: 0.2993 - accuracy: 0.8850 - val_loss: 0.3056 - val_accuracy: 0.8840 - lr: 0.0010\n",
            "Epoch 22/100\n",
            "456/456 [==============================] - 4s 10ms/step - loss: 0.3041 - accuracy: 0.8865 - val_loss: 0.2986 - val_accuracy: 0.8875 - lr: 0.0010\n",
            "Epoch 23/100\n",
            "456/456 [==============================] - 4s 9ms/step - loss: 0.3002 - accuracy: 0.8874 - val_loss: 0.3134 - val_accuracy: 0.8845 - lr: 0.0010\n",
            "Epoch 24/100\n",
            "456/456 [==============================] - 5s 12ms/step - loss: 0.2964 - accuracy: 0.8867 - val_loss: 0.3114 - val_accuracy: 0.8850 - lr: 0.0010\n",
            "Epoch 25/100\n",
            "456/456 [==============================] - 4s 10ms/step - loss: 0.3437 - accuracy: 0.8742 - val_loss: 0.3660 - val_accuracy: 0.8615 - lr: 0.0010\n",
            "Epoch 26/100\n",
            "456/456 [==============================] - 4s 9ms/step - loss: 0.3341 - accuracy: 0.8739 - val_loss: 0.3298 - val_accuracy: 0.8790 - lr: 0.0010\n",
            "Epoch 27/100\n",
            "456/456 [==============================] - 6s 13ms/step - loss: 0.3103 - accuracy: 0.8837 - val_loss: 0.3232 - val_accuracy: 0.8785 - lr: 0.0010\n",
            "Epoch 28/100\n",
            "456/456 [==============================] - 4s 9ms/step - loss: 0.2921 - accuracy: 0.8904 - val_loss: 0.2964 - val_accuracy: 0.8848 - lr: 1.0000e-04\n",
            "Epoch 29/100\n",
            "456/456 [==============================] - 4s 9ms/step - loss: 0.2791 - accuracy: 0.8946 - val_loss: 0.2789 - val_accuracy: 0.8938 - lr: 1.0000e-04\n",
            "Epoch 30/100\n",
            "456/456 [==============================] - 5s 11ms/step - loss: 0.2719 - accuracy: 0.8976 - val_loss: 0.2803 - val_accuracy: 0.8952 - lr: 1.0000e-04\n",
            "Epoch 31/100\n",
            "456/456 [==============================] - 5s 10ms/step - loss: 0.2670 - accuracy: 0.8991 - val_loss: 0.2772 - val_accuracy: 0.8982 - lr: 1.0000e-04\n",
            "Epoch 32/100\n",
            "456/456 [==============================] - 4s 9ms/step - loss: 0.2658 - accuracy: 0.8998 - val_loss: 0.2723 - val_accuracy: 0.8999 - lr: 1.0000e-04\n",
            "Epoch 33/100\n",
            "456/456 [==============================] - 4s 9ms/step - loss: 0.2657 - accuracy: 0.9003 - val_loss: 0.2731 - val_accuracy: 0.8979 - lr: 1.0000e-04\n",
            "Epoch 34/100\n",
            "456/456 [==============================] - 3s 7ms/step - loss: 0.2624 - accuracy: 0.8998 - val_loss: 0.2718 - val_accuracy: 0.8993 - lr: 1.0000e-04\n",
            "Epoch 35/100\n",
            "456/456 [==============================] - 4s 8ms/step - loss: 0.2616 - accuracy: 0.9020 - val_loss: 0.2697 - val_accuracy: 0.9001 - lr: 1.0000e-04\n",
            "Epoch 36/100\n",
            "456/456 [==============================] - 3s 8ms/step - loss: 0.2618 - accuracy: 0.9033 - val_loss: 0.2695 - val_accuracy: 0.9004 - lr: 1.0000e-04\n",
            "Epoch 37/100\n",
            "456/456 [==============================] - 3s 7ms/step - loss: 0.2595 - accuracy: 0.9024 - val_loss: 0.2689 - val_accuracy: 0.8990 - lr: 1.0000e-04\n",
            "Epoch 38/100\n",
            "456/456 [==============================] - 3s 7ms/step - loss: 0.2596 - accuracy: 0.9012 - val_loss: 0.2711 - val_accuracy: 0.8996 - lr: 1.0000e-04\n",
            "Epoch 39/100\n",
            "456/456 [==============================] - 3s 7ms/step - loss: 0.2577 - accuracy: 0.9018 - val_loss: 0.2694 - val_accuracy: 0.8971 - lr: 1.0000e-04\n",
            "Epoch 40/100\n",
            "456/456 [==============================] - 3s 7ms/step - loss: 0.2569 - accuracy: 0.9044 - val_loss: 0.2669 - val_accuracy: 0.9015 - lr: 1.0000e-04\n",
            "Epoch 41/100\n",
            "456/456 [==============================] - 3s 7ms/step - loss: 0.2572 - accuracy: 0.9027 - val_loss: 0.2659 - val_accuracy: 0.9007 - lr: 1.0000e-04\n",
            "Epoch 42/100\n",
            "456/456 [==============================] - 3s 7ms/step - loss: 0.2539 - accuracy: 0.9037 - val_loss: 0.2635 - val_accuracy: 0.9029 - lr: 1.0000e-04\n",
            "Epoch 43/100\n",
            "456/456 [==============================] - 3s 7ms/step - loss: 0.2543 - accuracy: 0.9046 - val_loss: 0.2690 - val_accuracy: 0.9010 - lr: 1.0000e-04\n",
            "Epoch 44/100\n",
            "456/456 [==============================] - 3s 7ms/step - loss: 0.2535 - accuracy: 0.9046 - val_loss: 0.2675 - val_accuracy: 0.8985 - lr: 1.0000e-04\n",
            "Epoch 45/100\n",
            "456/456 [==============================] - 3s 7ms/step - loss: 0.2538 - accuracy: 0.9030 - val_loss: 0.2629 - val_accuracy: 0.9015 - lr: 1.0000e-04\n",
            "Epoch 46/100\n",
            "456/456 [==============================] - 3s 6ms/step - loss: 0.2518 - accuracy: 0.9059 - val_loss: 0.2662 - val_accuracy: 0.8977 - lr: 1.0000e-04\n",
            "Epoch 47/100\n",
            "456/456 [==============================] - 3s 7ms/step - loss: 0.2525 - accuracy: 0.9049 - val_loss: 0.2635 - val_accuracy: 0.9015 - lr: 1.0000e-04\n",
            "Epoch 48/100\n",
            "456/456 [==============================] - 3s 6ms/step - loss: 0.2517 - accuracy: 0.9049 - val_loss: 0.2638 - val_accuracy: 0.9037 - lr: 1.0000e-04\n",
            "Epoch 49/100\n",
            "456/456 [==============================] - 3s 6ms/step - loss: 0.2505 - accuracy: 0.9051 - val_loss: 0.2673 - val_accuracy: 0.9037 - lr: 1.0000e-04\n",
            "Epoch 50/100\n",
            "456/456 [==============================] - 3s 6ms/step - loss: 0.2517 - accuracy: 0.9054 - val_loss: 0.2702 - val_accuracy: 0.9004 - lr: 1.0000e-04\n",
            "Epoch 51/100\n",
            "456/456 [==============================] - 3s 7ms/step - loss: 0.2518 - accuracy: 0.9055 - val_loss: 0.2639 - val_accuracy: 0.9015 - lr: 1.0000e-04\n",
            "Epoch 52/100\n",
            "456/456 [==============================] - 4s 8ms/step - loss: 0.2511 - accuracy: 0.9055 - val_loss: 0.2658 - val_accuracy: 0.9012 - lr: 1.0000e-04\n",
            "Epoch 53/100\n",
            "456/456 [==============================] - 5s 12ms/step - loss: 0.2478 - accuracy: 0.9064 - val_loss: 0.2623 - val_accuracy: 0.9007 - lr: 1.0000e-04\n",
            "Epoch 54/100\n",
            "456/456 [==============================] - 6s 12ms/step - loss: 0.2478 - accuracy: 0.9071 - val_loss: 0.2645 - val_accuracy: 0.9043 - lr: 1.0000e-04\n",
            "Epoch 55/100\n",
            "456/456 [==============================] - 5s 11ms/step - loss: 0.2484 - accuracy: 0.9079 - val_loss: 0.2635 - val_accuracy: 0.9023 - lr: 1.0000e-04\n",
            "Epoch 56/100\n",
            "456/456 [==============================] - 5s 12ms/step - loss: 0.2477 - accuracy: 0.9063 - val_loss: 0.2683 - val_accuracy: 0.9010 - lr: 1.0000e-04\n",
            "Epoch 57/100\n",
            "456/456 [==============================] - 5s 12ms/step - loss: 0.2480 - accuracy: 0.9064 - val_loss: 0.2625 - val_accuracy: 0.9015 - lr: 1.0000e-04\n",
            "Epoch 58/100\n",
            "456/456 [==============================] - 5s 12ms/step - loss: 0.2460 - accuracy: 0.9062 - val_loss: 0.2626 - val_accuracy: 0.9032 - lr: 1.0000e-04\n",
            "Epoch 59/100\n",
            "456/456 [==============================] - 6s 12ms/step - loss: 0.2457 - accuracy: 0.9073 - val_loss: 0.2605 - val_accuracy: 0.9043 - lr: 1.0000e-04\n",
            "Epoch 60/100\n",
            "456/456 [==============================] - 5s 11ms/step - loss: 0.2466 - accuracy: 0.9064 - val_loss: 0.2609 - val_accuracy: 0.9084 - lr: 1.0000e-04\n",
            "Epoch 61/100\n",
            "456/456 [==============================] - 5s 11ms/step - loss: 0.2465 - accuracy: 0.9064 - val_loss: 0.2590 - val_accuracy: 0.9062 - lr: 1.0000e-04\n",
            "Epoch 62/100\n",
            "456/456 [==============================] - 6s 13ms/step - loss: 0.2465 - accuracy: 0.9071 - val_loss: 0.2624 - val_accuracy: 0.9043 - lr: 1.0000e-04\n",
            "Epoch 63/100\n",
            "456/456 [==============================] - 6s 12ms/step - loss: 0.2456 - accuracy: 0.9077 - val_loss: 0.2634 - val_accuracy: 0.9037 - lr: 1.0000e-04\n",
            "Epoch 64/100\n",
            "456/456 [==============================] - 6s 12ms/step - loss: 0.2455 - accuracy: 0.9072 - val_loss: 0.2604 - val_accuracy: 0.9037 - lr: 1.0000e-04\n",
            "Epoch 65/100\n",
            "456/456 [==============================] - 6s 12ms/step - loss: 0.2450 - accuracy: 0.9077 - val_loss: 0.2614 - val_accuracy: 0.9059 - lr: 1.0000e-04\n",
            "Epoch 66/100\n",
            "456/456 [==============================] - 6s 12ms/step - loss: 0.2436 - accuracy: 0.9073 - val_loss: 0.2590 - val_accuracy: 0.9051 - lr: 1.0000e-04\n",
            "Epoch 67/100\n",
            "456/456 [==============================] - 5s 10ms/step - loss: 0.2452 - accuracy: 0.9072 - val_loss: 0.2683 - val_accuracy: 0.9040 - lr: 1.0000e-04\n",
            "Epoch 68/100\n",
            "456/456 [==============================] - 5s 10ms/step - loss: 0.2432 - accuracy: 0.9070 - val_loss: 0.2601 - val_accuracy: 0.9075 - lr: 1.0000e-04\n",
            "Epoch 69/100\n",
            "456/456 [==============================] - 6s 12ms/step - loss: 0.2440 - accuracy: 0.9068 - val_loss: 0.2615 - val_accuracy: 0.9062 - lr: 1.0000e-04\n",
            "Epoch 70/100\n",
            "456/456 [==============================] - 5s 11ms/step - loss: 0.2422 - accuracy: 0.9075 - val_loss: 0.2577 - val_accuracy: 0.9086 - lr: 1.0000e-04\n",
            "Epoch 71/100\n",
            "456/456 [==============================] - 6s 13ms/step - loss: 0.2431 - accuracy: 0.9086 - val_loss: 0.2589 - val_accuracy: 0.9051 - lr: 1.0000e-04\n",
            "Epoch 72/100\n",
            "456/456 [==============================] - 6s 13ms/step - loss: 0.2421 - accuracy: 0.9076 - val_loss: 0.2572 - val_accuracy: 0.9075 - lr: 1.0000e-04\n",
            "Epoch 73/100\n",
            "456/456 [==============================] - 6s 13ms/step - loss: 0.2436 - accuracy: 0.9069 - val_loss: 0.2627 - val_accuracy: 0.9040 - lr: 1.0000e-04\n",
            "Epoch 74/100\n",
            "456/456 [==============================] - 6s 14ms/step - loss: 0.2435 - accuracy: 0.9073 - val_loss: 0.2579 - val_accuracy: 0.9073 - lr: 1.0000e-04\n",
            "Epoch 75/100\n",
            "456/456 [==============================] - 6s 14ms/step - loss: 0.2402 - accuracy: 0.9075 - val_loss: 0.2630 - val_accuracy: 0.9053 - lr: 1.0000e-04\n",
            "Epoch 76/100\n",
            "456/456 [==============================] - 6s 12ms/step - loss: 0.2404 - accuracy: 0.9085 - val_loss: 0.2722 - val_accuracy: 0.9015 - lr: 1.0000e-04\n",
            "Epoch 77/100\n",
            "456/456 [==============================] - 6s 14ms/step - loss: 0.2401 - accuracy: 0.9080 - val_loss: 0.2594 - val_accuracy: 0.9070 - lr: 1.0000e-04\n",
            "Epoch 78/100\n",
            "456/456 [==============================] - 6s 12ms/step - loss: 0.2401 - accuracy: 0.9083 - val_loss: 0.2540 - val_accuracy: 0.9075 - lr: 1.0000e-04\n",
            "Epoch 79/100\n",
            "456/456 [==============================] - 6s 12ms/step - loss: 0.2392 - accuracy: 0.9077 - val_loss: 0.2583 - val_accuracy: 0.9067 - lr: 1.0000e-04\n",
            "Epoch 80/100\n",
            "456/456 [==============================] - 6s 13ms/step - loss: 0.2384 - accuracy: 0.9086 - val_loss: 0.2577 - val_accuracy: 0.9056 - lr: 1.0000e-04\n",
            "Epoch 81/100\n",
            "456/456 [==============================] - 6s 12ms/step - loss: 0.2379 - accuracy: 0.9085 - val_loss: 0.2600 - val_accuracy: 0.9023 - lr: 1.0000e-04\n",
            "Epoch 82/100\n",
            "456/456 [==============================] - 6s 13ms/step - loss: 0.2361 - accuracy: 0.9088 - val_loss: 0.2569 - val_accuracy: 0.9053 - lr: 1.0000e-04\n",
            "Epoch 83/100\n",
            "456/456 [==============================] - 6s 12ms/step - loss: 0.2368 - accuracy: 0.9073 - val_loss: 0.2588 - val_accuracy: 0.9034 - lr: 1.0000e-04\n",
            "Epoch 84/100\n",
            "456/456 [==============================] - 5s 11ms/step - loss: 0.2353 - accuracy: 0.9090 - val_loss: 0.2558 - val_accuracy: 0.9051 - lr: 1.0000e-04\n",
            "Epoch 85/100\n",
            "456/456 [==============================] - 6s 12ms/step - loss: 0.2390 - accuracy: 0.9085 - val_loss: 0.2562 - val_accuracy: 0.9086 - lr: 1.0000e-04\n",
            "Epoch 86/100\n",
            "456/456 [==============================] - 5s 11ms/step - loss: 0.2334 - accuracy: 0.9116 - val_loss: 0.2513 - val_accuracy: 0.9095 - lr: 1.0000e-04\n",
            "Epoch 87/100\n",
            "456/456 [==============================] - 5s 11ms/step - loss: 0.2357 - accuracy: 0.9094 - val_loss: 0.2502 - val_accuracy: 0.9092 - lr: 1.0000e-04\n",
            "Epoch 88/100\n",
            "456/456 [==============================] - 5s 11ms/step - loss: 0.2345 - accuracy: 0.9092 - val_loss: 0.2626 - val_accuracy: 0.9029 - lr: 1.0000e-04\n",
            "Epoch 89/100\n",
            "456/456 [==============================] - 5s 11ms/step - loss: 0.2324 - accuracy: 0.9109 - val_loss: 0.2535 - val_accuracy: 0.9078 - lr: 1.0000e-04\n",
            "Epoch 90/100\n",
            "456/456 [==============================] - 5s 10ms/step - loss: 0.2331 - accuracy: 0.9099 - val_loss: 0.2655 - val_accuracy: 0.9067 - lr: 1.0000e-04\n",
            "Epoch 91/100\n",
            "456/456 [==============================] - 5s 11ms/step - loss: 0.2338 - accuracy: 0.9081 - val_loss: 0.2550 - val_accuracy: 0.9078 - lr: 1.0000e-04\n",
            "Epoch 92/100\n",
            "456/456 [==============================] - 5s 11ms/step - loss: 0.2323 - accuracy: 0.9114 - val_loss: 0.2546 - val_accuracy: 0.9095 - lr: 1.0000e-04\n",
            "Epoch 93/100\n",
            "456/456 [==============================] - 5s 11ms/step - loss: 0.2326 - accuracy: 0.9099 - val_loss: 0.2605 - val_accuracy: 0.9048 - lr: 1.0000e-04\n",
            "Epoch 94/100\n",
            "456/456 [==============================] - 5s 12ms/step - loss: 0.2332 - accuracy: 0.9104 - val_loss: 0.2585 - val_accuracy: 0.9081 - lr: 1.0000e-04\n",
            "Epoch 95/100\n",
            "456/456 [==============================] - 5s 11ms/step - loss: 0.2302 - accuracy: 0.9105 - val_loss: 0.2590 - val_accuracy: 0.9026 - lr: 1.0000e-04\n",
            "Epoch 96/100\n",
            "456/456 [==============================] - 5s 10ms/step - loss: 0.2318 - accuracy: 0.9095 - val_loss: 0.2581 - val_accuracy: 0.9070 - lr: 1.0000e-04\n",
            "Epoch 97/100\n",
            "456/456 [==============================] - 5s 11ms/step - loss: 0.2318 - accuracy: 0.9111 - val_loss: 0.2536 - val_accuracy: 0.9067 - lr: 1.0000e-04\n",
            "Epoch 98/100\n",
            "456/456 [==============================] - 5s 11ms/step - loss: 0.2246 - accuracy: 0.9132 - val_loss: 0.2506 - val_accuracy: 0.9095 - lr: 1.0000e-05\n",
            "Epoch 99/100\n",
            "456/456 [==============================] - 5s 11ms/step - loss: 0.2236 - accuracy: 0.9132 - val_loss: 0.2512 - val_accuracy: 0.9097 - lr: 1.0000e-05\n",
            "Epoch 100/100\n",
            "456/456 [==============================] - 5s 11ms/step - loss: 0.2234 - accuracy: 0.9115 - val_loss: 0.2520 - val_accuracy: 0.9089 - lr: 1.0000e-05\n"
          ]
        }
      ],
      "source": [
        "batch_size = 32\n",
        "epochs = 100\n",
        "\n",
        "history = model_dnn.fit(\n",
        "    x_train,\n",
        "    y_train,\n",
        "    validation_split=0.2,\n",
        "    batch_size=batch_size,\n",
        "    epochs=epochs,\n",
        "    callbacks=[\n",
        "        tf.keras.callbacks.ReduceLROnPlateau()\n",
        "    ]\n",
        ")"
      ]
    },
    {
      "cell_type": "code",
      "execution_count": 9,
      "metadata": {},
      "outputs": [
        {
          "name": "stdout",
          "output_type": "stream",
          "text": [
            "190/190 [==============================] - 1s 4ms/step\n"
          ]
        },
        {
          "data": {
            "image/png": "[encoded data removed]",
            "text/plain": [
              "<Figure size 1500x800 with 2 Axes>"
            ]
          },
          "metadata": {},
          "output_type": "display_data"
        }
      ],
      "source": [
        "# Confusion matrix for DNN model\n",
        "from sklearn.metrics import confusion_matrix\n",
        "import matplotlib.pyplot as plt\n",
        "import seaborn as sns\n",
        "y_true = np.array(y_test)\n",
        "y_pred_dnn = np.argmax(model_dnn.predict(x_test), axis=-1)\n",
        "cm_dnn = confusion_matrix(y_true, y_pred_dnn)\n",
        "plt.figure(figsize = (15,8))\n",
        "sns.heatmap(cm_dnn, annot=True, fmt='g', cmap='gist_heat',cbar=True)\n",
        "plt.xlabel(\"Predicted\")\n",
        "plt.ylabel(\"Actual\")\n",
        "plt.title(\"Confusion Matrix for DNN model\")\n",
        "plt.show()"
      ]
    }
  ],
  "metadata": {
    "colab": {
      "provenance": []
    },
    "kernelspec": {
      "display_name": "Python 3",
      "name": "python3"
    },
    "language_info": {
      "codemirror_mode": {
        "name": "ipython",
        "version": 3
      },
      "file_extension": ".py",
      "mimetype": "text/x-python",
      "name": "python",
      "nbconvert_exporter": "python",
      "pygments_lexer": "ipython3",
      "version": "3.7.0"
    }
  },
  "nbformat": 4,
  "nbformat_minor": 0
}
