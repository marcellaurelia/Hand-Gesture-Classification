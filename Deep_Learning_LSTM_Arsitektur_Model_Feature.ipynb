{
  "cells": [
    {
      "cell_type": "code",
      "execution_count": 1,
      "metadata": {
        "id": "K5e9wcpigMZ4"
      },
      "outputs": [
        {
          "name": "stdout",
          "output_type": "stream",
          "text": [
            "Requirement already satisfied: pandas in c:\\users\\lenovo\\appdata\\local\\programs\\python\\python37\\lib\\site-packages (1.1.5)"
          ]
        },
        {
          "name": "stderr",
          "output_type": "stream",
          "text": [
            "WARNING: Ignoring invalid distribution -illow (c:\\users\\lenovo\\appdata\\local\\programs\\python\\python37\\lib\\site-packages)\n",
            "WARNING: Ignoring invalid distribution -illow (c:\\users\\lenovo\\appdata\\local\\programs\\python\\python37\\lib\\site-packages)\n"
          ]
        },
        {
          "name": "stdout",
          "output_type": "stream",
          "text": [
            "\n",
            "Requirement already satisfied: python-dateutil>=2.7.3 in c:\\users\\lenovo\\appdata\\local\\programs\\python\\python37\\lib\\site-packages (from pandas) (2.8.2)\n",
            "Requirement already satisfied: pytz>=2017.2 in c:\\users\\lenovo\\appdata\\local\\programs\\python\\python37\\lib\\site-packages (from pandas) (2023.3)\n",
            "Requirement already satisfied: numpy>=1.15.4 in c:\\users\\lenovo\\appdata\\local\\programs\\python\\python37\\lib\\site-packages (from pandas) (1.21.6)\n",
            "Requirement already satisfied: six>=1.5 in c:\\users\\lenovo\\appdata\\local\\programs\\python\\python37\\lib\\site-packages (from python-dateutil>=2.7.3->pandas) (1.15.0)\n",
            "Requirement already satisfied: seaborn in c:\\users\\lenovo\\appdata\\local\\programs\\python\\python37\\lib\\site-packages (0.12.2)\n",
            "Requirement already satisfied: numpy!=1.24.0,>=1.17 in c:\\users\\lenovo\\appdata\\local\\programs\\python\\python37\\lib\\site-packages (from seaborn) (1.21.6)\n",
            "Requirement already satisfied: pandas>=0.25 in c:\\users\\lenovo\\appdata\\local\\programs\\python\\python37\\lib\\site-packages (from seaborn) (1.1.5)\n",
            "Requirement already satisfied: matplotlib!=3.6.1,>=3.1 in c:\\users\\lenovo\\appdata\\local\\programs\\python\\python37\\lib\\site-packages (from seaborn) (3.5.3)\n",
            "Requirement already satisfied: typing_extensions in c:\\users\\lenovo\\appdata\\local\\programs\\python\\python37\\lib\\site-packages (from seaborn) (4.5.0)\n",
            "Requirement already satisfied: cycler>=0.10 in c:\\users\\lenovo\\appdata\\local\\programs\\python\\python37\\lib\\site-packages (from matplotlib!=3.6.1,>=3.1->seaborn) (0.11.0)\n",
            "Requirement already satisfied: fonttools>=4.22.0 in c:\\users\\lenovo\\appdata\\local\\programs\\python\\python37\\lib\\site-packages (from matplotlib!=3.6.1,>=3.1->seaborn) (4.38.0)\n",
            "Requirement already satisfied: kiwisolver>=1.0.1 in c:\\users\\lenovo\\appdata\\local\\programs\\python\\python37\\lib\\site-packages (from matplotlib!=3.6.1,>=3.1->seaborn) (1.4.4)\n",
            "Requirement already satisfied: packaging>=20.0 in c:\\users\\lenovo\\appdata\\local\\programs\\python\\python37\\lib\\site-packages (from matplotlib!=3.6.1,>=3.1->seaborn) (20.9)\n",
            "Requirement already satisfied: pillow>=6.2.0 in c:\\users\\lenovo\\appdata\\roaming\\python\\python37\\site-packages (from matplotlib!=3.6.1,>=3.1->seaborn) (6.2.0)\n",
            "Requirement already satisfied: pyparsing>=2.2.1 in c:\\users\\lenovo\\appdata\\local\\programs\\python\\python37\\lib\\site-packages (from matplotlib!=3.6.1,>=3.1->seaborn) (2.4.7)\n",
            "Requirement already satisfied: python-dateutil>=2.7 in c:\\users\\lenovo\\appdata\\local\\programs\\python\\python37\\lib\\site-packages (from matplotlib!=3.6.1,>=3.1->seaborn) (2.8.2)\n",
            "Requirement already satisfied: pytz>=2017.2 in c:\\users\\lenovo\\appdata\\local\\programs\\python\\python37\\lib\\site-packages (from pandas>=0.25->seaborn) (2023.3)\n",
            "Requirement already satisfied: six>=1.5 in c:\\users\\lenovo\\appdata\\local\\programs\\python\\python37\\lib\\site-packages (from python-dateutil>=2.7->matplotlib!=3.6.1,>=3.1->seaborn) (1.15.0)\n"
          ]
        },
        {
          "name": "stderr",
          "output_type": "stream",
          "text": [
            "WARNING: Ignoring invalid distribution -illow (c:\\users\\lenovo\\appdata\\local\\programs\\python\\python37\\lib\\site-packages)\n",
            "WARNING: Ignoring invalid distribution -illow (c:\\users\\lenovo\\appdata\\local\\programs\\python\\python37\\lib\\site-packages)\n"
          ]
        },
        {
          "name": "stdout",
          "output_type": "stream",
          "text": [
            "Requirement already satisfied: scikit-learn in c:\\users\\lenovo\\appdata\\local\\programs\\python\\python37\\lib\\site-packages (1.0.2)\n",
            "Requirement already satisfied: numpy>=1.14.6 in c:\\users\\lenovo\\appdata\\local\\programs\\python\\python37\\lib\\site-packages (from scikit-learn) (1.21.6)\n",
            "Requirement already satisfied: scipy>=1.1.0 in c:\\users\\lenovo\\appdata\\local\\programs\\python\\python37\\lib\\site-packages (from scikit-learn) (1.4.1)\n",
            "Requirement already satisfied: joblib>=0.11 in c:\\users\\lenovo\\appdata\\local\\programs\\python\\python37\\lib\\site-packages (from scikit-learn) (1.2.0)\n",
            "Requirement already satisfied: threadpoolctl>=2.0.0 in c:\\users\\lenovo\\appdata\\local\\programs\\python\\python37\\lib\\site-packages (from scikit-learn) (3.1.0)\n"
          ]
        },
        {
          "name": "stderr",
          "output_type": "stream",
          "text": [
            "WARNING: Ignoring invalid distribution -illow (c:\\users\\lenovo\\appdata\\local\\programs\\python\\python37\\lib\\site-packages)\n",
            "WARNING: Ignoring invalid distribution -illow (c:\\users\\lenovo\\appdata\\local\\programs\\python\\python37\\lib\\site-packages)\n",
            "WARNING: Ignoring invalid distribution -illow (c:\\users\\lenovo\\appdata\\local\\programs\\python\\python37\\lib\\site-packages)\n",
            "WARNING: Ignoring invalid distribution -illow (c:\\users\\lenovo\\appdata\\local\\programs\\python\\python37\\lib\\site-packages)\n"
          ]
        },
        {
          "name": "stdout",
          "output_type": "stream",
          "text": [
            "Requirement already satisfied: xgboost in c:\\users\\lenovo\\appdata\\local\\programs\\python\\python37\\lib\\site-packages (1.6.2)\n",
            "Requirement already satisfied: numpy in c:\\users\\lenovo\\appdata\\local\\programs\\python\\python37\\lib\\site-packages (from xgboost) (1.21.6)\n",
            "Requirement already satisfied: scipy in c:\\users\\lenovo\\appdata\\local\\programs\\python\\python37\\lib\\site-packages (from xgboost) (1.4.1)\n"
          ]
        }
      ],
      "source": [
        "!pip install pandas\n",
        "!pip install seaborn\n",
        "!pip install scikit-learn\n",
        "!pip install xgboost\n",
        "import numpy as np # linear algebra\n",
        "import pandas as pd # data processing, CSV file I/O (e.g. pd.read_csv)\n",
        "import matplotlib.pyplot as plt\n",
        "import seaborn as sns\n",
        "from sklearn.model_selection import train_test_split\n",
        "from sklearn.preprocessing import StandardScaler\n",
        "from sklearn.ensemble import RandomForestClassifier\n",
        "from sklearn.model_selection import GridSearchCV\n",
        "import tensorflow as tf\n",
        "import xgboost as xgb\n",
        "import os"
      ]
    },
    {
      "cell_type": "code",
      "execution_count": 2,
      "metadata": {
        "id": "FGtRs6AegW9i"
      },
      "outputs": [],
      "source": [
        "file_path = r'C:\\Users\\Lenovo\\Documents\\KULIAH\\semester 6\\Analisis Sinyal Biomedis\\all feature & labelling.csv'\n",
        "df = pd.read_csv(file_path, header=None, sep =\";\")\n",
        "df = df.apply(pd.to_numeric, errors='coerce')\n",
        "df = df.dropna()"
      ]
    },
    {
      "cell_type": "code",
      "execution_count": 3,
      "metadata": {
        "colab": {
          "base_uri": "https://localhost:8080/"
        },
        "id": "oDqbvjwzgs-l",
        "outputId": "4d113360-95aa-4331-cc47-d3d5e5a25434"
      },
      "outputs": [
        {
          "name": "stdout",
          "output_type": "stream",
          "text": [
            "(24297, 3)\n",
            "(24297,)\n"
          ]
        }
      ],
      "source": [
        "from sklearn.model_selection import train_test_split\n",
        "from sklearn.preprocessing import StandardScaler\n",
        "x = df.iloc[:,:3].copy()\n",
        "y = df.iloc[:,3].copy()\n",
        "print(x.shape)\n",
        "print(y.shape)\n",
        "x_train, x_test, y_train, y_test = train_test_split(x, y, test_size=0.25, random_state=1)"
      ]
    },
    {
      "cell_type": "code",
      "execution_count": 4,
      "metadata": {
        "id": "YVMnQyjChAjs"
      },
      "outputs": [],
      "source": [
        "SC = StandardScaler()\n",
        "x_train = pd.DataFrame(SC.fit_transform(x_train))\n",
        "x_test = pd.DataFrame(SC.transform(x_test))"
      ]
    },
    {
      "cell_type": "code",
      "execution_count": 6,
      "metadata": {
        "colab": {
          "base_uri": "https://localhost:8080/"
        },
        "id": "1jO86W2lnhjt",
        "outputId": "dac02b7e-a808-4069-e00c-f4f89b5038ad"
      },
      "outputs": [
        {
          "name": "stdout",
          "output_type": "stream",
          "text": [
            "Model: \"model\"\n",
            "_________________________________________________________________\n",
            " Layer (type)                Output Shape              Param #   \n",
            "=================================================================\n",
            " input_2 (InputLayer)        [(None, 3)]               0         \n",
            "                                                                 \n",
            " tf.expand_dims_1 (TFOpLambd  (None, 3, 1)             0         \n",
            " a)                                                              \n",
            "                                                                 \n",
            " lstm_7 (LSTM)               (None, 3, 64)             16896     \n",
            "                                                                 \n",
            " lstm_8 (LSTM)               (None, 3, 64)             33024     \n",
            "                                                                 \n",
            " lstm_9 (LSTM)               (None, 3, 64)             33024     \n",
            "                                                                 \n",
            " lstm_10 (LSTM)              (None, 3, 64)             33024     \n",
            "                                                                 \n",
            " lstm_11 (LSTM)              (None, 3, 64)             33024     \n",
            "                                                                 \n",
            " lstm_12 (LSTM)              (None, 3, 64)             33024     \n",
            "                                                                 \n",
            " lstm_13 (LSTM)              (None, 3, 64)             33024     \n",
            "                                                                 \n",
            " lstm_14 (LSTM)              (None, 3, 64)             33024     \n",
            "                                                                 \n",
            " lstm_15 (LSTM)              (None, 3, 64)             33024     \n",
            "                                                                 \n",
            " lstm_16 (LSTM)              (None, 64)                33024     \n",
            "                                                                 \n",
            " dense (Dense)               (None, 128)               8320      \n",
            "                                                                 \n",
            " dropout (Dropout)           (None, 128)               0         \n",
            "                                                                 \n",
            " dense_1 (Dense)             (None, 64)                8256      \n",
            "                                                                 \n",
            " dropout_1 (Dropout)         (None, 64)                0         \n",
            "                                                                 \n",
            " dense_2 (Dense)             (None, 3)                 195       \n",
            "                                                                 \n",
            "=================================================================\n",
            "Total params: 330,883\n",
            "Trainable params: 330,883\n",
            "Non-trainable params: 0\n",
            "_________________________________________________________________\n"
          ]
        }
      ],
      "source": [
        "#LSTM\n",
        "import tensorflow as tf\n",
        "\n",
        "inputs = tf.keras.Input(shape=(3,))\n",
        "reshaped_inputs = tf.expand_dims(inputs, axis=-1)  # Add an extra dimension for time steps\n",
        "\n",
        "# LSTM layers\n",
        "x = tf.keras.layers.LSTM(64, return_sequences=True)(reshaped_inputs)\n",
        "# Rest of the LSTM layers...\n",
        "\n",
        "x = tf.keras.layers.LSTM(64, return_sequences=True)(x)\n",
        "x = tf.keras.layers.LSTM(64, return_sequences=True)(x)\n",
        "x = tf.keras.layers.LSTM(64, return_sequences=True)(x)\n",
        "x = tf.keras.layers.LSTM(64, return_sequences=True)(x)\n",
        "x = tf.keras.layers.LSTM(64, return_sequences=True)(x)\n",
        "x = tf.keras.layers.LSTM(64, return_sequences=True)(x)\n",
        "x = tf.keras.layers.LSTM(64, return_sequences=True)(x)\n",
        "x = tf.keras.layers.LSTM(64, return_sequences=True)(x)\n",
        "x = tf.keras.layers.LSTM(64)(x)\n",
        "\n",
        "# Dense layers\n",
        "x = tf.keras.layers.Dense(128, activation='relu')(x)\n",
        "x = tf.keras.layers.Dropout(0.2)(x)\n",
        "x = tf.keras.layers.Dense(64, activation='relu')(x)\n",
        "x = tf.keras.layers.Dropout(0.2)(x)\n",
        "outputs = tf.keras.layers.Dense(3, activation='softmax')(x)\n",
        "\n",
        "model_lstm = tf.keras.Model(inputs, outputs)\n",
        "model_lstm.summary()\n"
      ]
    },
    {
      "cell_type": "code",
      "execution_count": 7,
      "metadata": {
        "id": "zQhF1_Dmnvvh"
      },
      "outputs": [],
      "source": [
        "model_lstm.compile(\n",
        "    optimizer='adam',\n",
        "    loss='sparse_categorical_crossentropy',\n",
        "    metrics=['accuracy']\n",
        ")\n"
      ]
    },
    {
      "cell_type": "code",
      "execution_count": 8,
      "metadata": {
        "colab": {
          "base_uri": "https://localhost:8080/"
        },
        "id": "AUlI1-oJoj8h",
        "outputId": "b3ae359f-459d-4a5e-d86c-59999e13f099"
      },
      "outputs": [
        {
          "name": "stdout",
          "output_type": "stream",
          "text": [
            "Epoch 1/100\n",
            "456/456 [==============================] - 69s 87ms/step - loss: 0.8285 - accuracy: 0.5569 - val_loss: 0.6418 - val_accuracy: 0.6867 - lr: 0.0010\n",
            "Epoch 2/100\n",
            "456/456 [==============================] - 27s 59ms/step - loss: 0.5628 - accuracy: 0.7392 - val_loss: 0.5289 - val_accuracy: 0.7503 - lr: 0.0010\n",
            "Epoch 3/100\n",
            "456/456 [==============================] - 27s 60ms/step - loss: 0.5398 - accuracy: 0.7539 - val_loss: 0.5168 - val_accuracy: 0.7539 - lr: 0.0010\n",
            "Epoch 4/100\n",
            "456/456 [==============================] - 16s 35ms/step - loss: 0.5272 - accuracy: 0.7580 - val_loss: 0.5128 - val_accuracy: 0.7553 - lr: 0.0010\n",
            "Epoch 5/100\n",
            "456/456 [==============================] - 21s 47ms/step - loss: 0.5123 - accuracy: 0.7642 - val_loss: 0.5201 - val_accuracy: 0.7610 - lr: 0.0010\n",
            "Epoch 6/100\n",
            "456/456 [==============================] - 15s 34ms/step - loss: 0.5189 - accuracy: 0.7589 - val_loss: 0.5011 - val_accuracy: 0.7616 - lr: 0.0010\n",
            "Epoch 7/100\n",
            "456/456 [==============================] - 18s 40ms/step - loss: 0.4963 - accuracy: 0.7702 - val_loss: 0.4829 - val_accuracy: 0.7660 - lr: 0.0010\n",
            "Epoch 8/100\n",
            "456/456 [==============================] - 22s 49ms/step - loss: 0.4896 - accuracy: 0.7713 - val_loss: 0.4777 - val_accuracy: 0.7632 - lr: 0.0010\n",
            "Epoch 9/100\n",
            "456/456 [==============================] - 25s 54ms/step - loss: 0.4806 - accuracy: 0.7748 - val_loss: 0.4848 - val_accuracy: 0.7822 - lr: 0.0010\n",
            "Epoch 10/100\n",
            "456/456 [==============================] - 19s 42ms/step - loss: 0.4650 - accuracy: 0.7962 - val_loss: 0.4662 - val_accuracy: 0.7896 - lr: 0.0010\n",
            "Epoch 11/100\n",
            "456/456 [==============================] - 23s 49ms/step - loss: 0.4585 - accuracy: 0.7943 - val_loss: 0.4724 - val_accuracy: 0.7885 - lr: 0.0010\n",
            "Epoch 12/100\n",
            "456/456 [==============================] - 14s 31ms/step - loss: 0.4584 - accuracy: 0.8025 - val_loss: 0.4499 - val_accuracy: 0.8052 - lr: 0.0010\n",
            "Epoch 13/100\n",
            "456/456 [==============================] - 10s 21ms/step - loss: 0.4460 - accuracy: 0.8072 - val_loss: 0.4408 - val_accuracy: 0.8091 - lr: 0.0010\n",
            "Epoch 14/100\n",
            "456/456 [==============================] - 10s 22ms/step - loss: 0.4307 - accuracy: 0.8137 - val_loss: 0.4481 - val_accuracy: 0.8080 - lr: 0.0010\n",
            "Epoch 15/100\n",
            "456/456 [==============================] - 9s 20ms/step - loss: 0.4214 - accuracy: 0.8175 - val_loss: 0.4196 - val_accuracy: 0.8112 - lr: 0.0010\n",
            "Epoch 16/100\n",
            "456/456 [==============================] - 9s 21ms/step - loss: 0.4078 - accuracy: 0.8269 - val_loss: 0.4083 - val_accuracy: 0.8258 - lr: 0.0010\n",
            "Epoch 17/100\n",
            "456/456 [==============================] - 11s 25ms/step - loss: 0.4099 - accuracy: 0.8336 - val_loss: 0.4135 - val_accuracy: 0.8233 - lr: 0.0010\n",
            "Epoch 18/100\n",
            "456/456 [==============================] - 22s 48ms/step - loss: 0.3937 - accuracy: 0.8435 - val_loss: 0.3860 - val_accuracy: 0.8379 - lr: 0.0010\n",
            "Epoch 19/100\n",
            "456/456 [==============================] - 21s 46ms/step - loss: 0.3720 - accuracy: 0.8511 - val_loss: 0.3712 - val_accuracy: 0.8494 - lr: 0.0010\n",
            "Epoch 20/100\n",
            "456/456 [==============================] - 22s 48ms/step - loss: 0.3622 - accuracy: 0.8588 - val_loss: 0.4312 - val_accuracy: 0.8359 - lr: 0.0010\n",
            "Epoch 21/100\n",
            "456/456 [==============================] - 24s 52ms/step - loss: 0.3605 - accuracy: 0.8629 - val_loss: 0.3703 - val_accuracy: 0.8595 - lr: 0.0010\n",
            "Epoch 22/100\n",
            "456/456 [==============================] - 24s 52ms/step - loss: 0.3572 - accuracy: 0.8625 - val_loss: 0.3600 - val_accuracy: 0.8576 - lr: 0.0010\n",
            "Epoch 23/100\n",
            "456/456 [==============================] - 25s 54ms/step - loss: 0.3479 - accuracy: 0.8660 - val_loss: 0.3644 - val_accuracy: 0.8469 - lr: 0.0010\n",
            "Epoch 24/100\n",
            "456/456 [==============================] - 20s 45ms/step - loss: 0.3484 - accuracy: 0.8686 - val_loss: 0.3474 - val_accuracy: 0.8634 - lr: 0.0010\n",
            "Epoch 25/100\n",
            "456/456 [==============================] - 19s 42ms/step - loss: 0.3414 - accuracy: 0.8673 - val_loss: 0.3717 - val_accuracy: 0.8573 - lr: 0.0010\n",
            "Epoch 26/100\n",
            "456/456 [==============================] - 17s 38ms/step - loss: 0.3501 - accuracy: 0.8633 - val_loss: 0.3660 - val_accuracy: 0.8617 - lr: 0.0010\n",
            "Epoch 27/100\n",
            "456/456 [==============================] - 24s 54ms/step - loss: 0.3446 - accuracy: 0.8674 - val_loss: 0.3626 - val_accuracy: 0.8480 - lr: 0.0010\n",
            "Epoch 28/100\n",
            "456/456 [==============================] - 32s 70ms/step - loss: 0.3374 - accuracy: 0.8660 - val_loss: 0.3423 - val_accuracy: 0.8722 - lr: 0.0010\n",
            "Epoch 29/100\n",
            "456/456 [==============================] - 33s 72ms/step - loss: 0.3376 - accuracy: 0.8730 - val_loss: 0.3479 - val_accuracy: 0.8656 - lr: 0.0010\n",
            "Epoch 30/100\n",
            "456/456 [==============================] - 32s 69ms/step - loss: 0.3354 - accuracy: 0.8735 - val_loss: 0.3592 - val_accuracy: 0.8598 - lr: 0.0010\n",
            "Epoch 31/100\n",
            "456/456 [==============================] - 34s 75ms/step - loss: 0.3387 - accuracy: 0.8688 - val_loss: 0.3410 - val_accuracy: 0.8658 - lr: 0.0010\n",
            "Epoch 32/100\n",
            "456/456 [==============================] - 33s 73ms/step - loss: 0.3354 - accuracy: 0.8750 - val_loss: 0.3497 - val_accuracy: 0.8615 - lr: 0.0010\n",
            "Epoch 33/100\n",
            "456/456 [==============================] - 31s 67ms/step - loss: 0.3302 - accuracy: 0.8743 - val_loss: 0.3914 - val_accuracy: 0.8414 - lr: 0.0010\n",
            "Epoch 34/100\n",
            "456/456 [==============================] - 30s 66ms/step - loss: 0.3296 - accuracy: 0.8728 - val_loss: 0.3380 - val_accuracy: 0.8667 - lr: 0.0010\n",
            "Epoch 35/100\n",
            "456/456 [==============================] - 29s 63ms/step - loss: 0.3301 - accuracy: 0.8772 - val_loss: 0.3423 - val_accuracy: 0.8645 - lr: 0.0010\n",
            "Epoch 36/100\n",
            "456/456 [==============================] - 22s 48ms/step - loss: 0.3267 - accuracy: 0.8744 - val_loss: 0.3728 - val_accuracy: 0.8403 - lr: 0.0010\n",
            "Epoch 37/100\n",
            "456/456 [==============================] - 14s 30ms/step - loss: 0.3295 - accuracy: 0.8722 - val_loss: 0.3361 - val_accuracy: 0.8724 - lr: 0.0010\n",
            "Epoch 38/100\n",
            "456/456 [==============================] - 19s 41ms/step - loss: 0.3263 - accuracy: 0.8743 - val_loss: 0.3351 - val_accuracy: 0.8708 - lr: 0.0010\n",
            "Epoch 39/100\n",
            "456/456 [==============================] - 20s 44ms/step - loss: 0.3234 - accuracy: 0.8762 - val_loss: 0.3407 - val_accuracy: 0.8658 - lr: 0.0010\n",
            "Epoch 40/100\n",
            "456/456 [==============================] - 13s 28ms/step - loss: 0.3286 - accuracy: 0.8735 - val_loss: 0.4044 - val_accuracy: 0.8425 - lr: 0.0010\n",
            "Epoch 41/100\n",
            "456/456 [==============================] - 15s 33ms/step - loss: 0.3245 - accuracy: 0.8782 - val_loss: 0.3162 - val_accuracy: 0.8798 - lr: 0.0010\n",
            "Epoch 42/100\n",
            "456/456 [==============================] - 14s 31ms/step - loss: 0.3194 - accuracy: 0.8805 - val_loss: 0.3466 - val_accuracy: 0.8656 - lr: 0.0010\n",
            "Epoch 43/100\n",
            "456/456 [==============================] - 11s 25ms/step - loss: 0.3193 - accuracy: 0.8786 - val_loss: 0.3166 - val_accuracy: 0.8848 - lr: 0.0010\n",
            "Epoch 44/100\n",
            "456/456 [==============================] - 16s 34ms/step - loss: 0.3309 - accuracy: 0.8750 - val_loss: 0.3363 - val_accuracy: 0.8749 - lr: 0.0010\n",
            "Epoch 45/100\n",
            "456/456 [==============================] - 16s 34ms/step - loss: 0.3312 - accuracy: 0.8717 - val_loss: 0.3253 - val_accuracy: 0.8815 - lr: 0.0010\n",
            "Epoch 46/100\n",
            "456/456 [==============================] - 25s 55ms/step - loss: 0.3151 - accuracy: 0.8809 - val_loss: 0.3258 - val_accuracy: 0.8763 - lr: 0.0010\n",
            "Epoch 47/100\n",
            "456/456 [==============================] - 16s 35ms/step - loss: 0.3177 - accuracy: 0.8771 - val_loss: 0.3533 - val_accuracy: 0.8642 - lr: 0.0010\n",
            "Epoch 48/100\n",
            "456/456 [==============================] - 10s 23ms/step - loss: 0.3206 - accuracy: 0.8762 - val_loss: 0.3398 - val_accuracy: 0.8768 - lr: 0.0010\n",
            "Epoch 49/100\n",
            "456/456 [==============================] - 10s 22ms/step - loss: 0.3213 - accuracy: 0.8787 - val_loss: 0.3250 - val_accuracy: 0.8801 - lr: 0.0010\n",
            "Epoch 50/100\n",
            "456/456 [==============================] - 11s 23ms/step - loss: 0.3115 - accuracy: 0.8792 - val_loss: 0.3467 - val_accuracy: 0.8645 - lr: 0.0010\n",
            "Epoch 51/100\n",
            "456/456 [==============================] - 15s 32ms/step - loss: 0.3183 - accuracy: 0.8804 - val_loss: 0.3264 - val_accuracy: 0.8724 - lr: 0.0010\n",
            "Epoch 52/100\n",
            "456/456 [==============================] - 17s 36ms/step - loss: 0.2887 - accuracy: 0.8902 - val_loss: 0.3026 - val_accuracy: 0.8856 - lr: 1.0000e-04\n",
            "Epoch 53/100\n",
            "456/456 [==============================] - 16s 35ms/step - loss: 0.2841 - accuracy: 0.8948 - val_loss: 0.2956 - val_accuracy: 0.8875 - lr: 1.0000e-04\n",
            "Epoch 54/100\n",
            "456/456 [==============================] - 24s 53ms/step - loss: 0.2823 - accuracy: 0.8937 - val_loss: 0.2950 - val_accuracy: 0.8883 - lr: 1.0000e-04\n",
            "Epoch 55/100\n",
            "456/456 [==============================] - 27s 60ms/step - loss: 0.2804 - accuracy: 0.8969 - val_loss: 0.2936 - val_accuracy: 0.8886 - lr: 1.0000e-04\n",
            "Epoch 56/100\n",
            "456/456 [==============================] - 27s 59ms/step - loss: 0.2798 - accuracy: 0.8950 - val_loss: 0.2908 - val_accuracy: 0.8897 - lr: 1.0000e-04\n",
            "Epoch 57/100\n",
            "456/456 [==============================] - 27s 58ms/step - loss: 0.2764 - accuracy: 0.8974 - val_loss: 0.2887 - val_accuracy: 0.8922 - lr: 1.0000e-04\n",
            "Epoch 58/100\n",
            "456/456 [==============================] - 27s 58ms/step - loss: 0.2757 - accuracy: 0.8968 - val_loss: 0.2910 - val_accuracy: 0.8933 - lr: 1.0000e-04\n",
            "Epoch 59/100\n",
            "456/456 [==============================] - 26s 57ms/step - loss: 0.2754 - accuracy: 0.8965 - val_loss: 0.2881 - val_accuracy: 0.8905 - lr: 1.0000e-04\n",
            "Epoch 60/100\n",
            "456/456 [==============================] - 25s 56ms/step - loss: 0.2749 - accuracy: 0.8977 - val_loss: 0.2910 - val_accuracy: 0.8894 - lr: 1.0000e-04\n",
            "Epoch 61/100\n",
            "456/456 [==============================] - 26s 58ms/step - loss: 0.2739 - accuracy: 0.8970 - val_loss: 0.2871 - val_accuracy: 0.8927 - lr: 1.0000e-04\n",
            "Epoch 62/100\n",
            "456/456 [==============================] - 26s 57ms/step - loss: 0.2716 - accuracy: 0.9009 - val_loss: 0.2928 - val_accuracy: 0.8903 - lr: 1.0000e-04\n",
            "Epoch 63/100\n",
            "456/456 [==============================] - 26s 58ms/step - loss: 0.2703 - accuracy: 0.8985 - val_loss: 0.2852 - val_accuracy: 0.8925 - lr: 1.0000e-04\n",
            "Epoch 64/100\n",
            "456/456 [==============================] - 26s 58ms/step - loss: 0.2715 - accuracy: 0.8987 - val_loss: 0.2857 - val_accuracy: 0.8922 - lr: 1.0000e-04\n",
            "Epoch 65/100\n",
            "456/456 [==============================] - 26s 58ms/step - loss: 0.2703 - accuracy: 0.8985 - val_loss: 0.2832 - val_accuracy: 0.8949 - lr: 1.0000e-04\n",
            "Epoch 66/100\n",
            "456/456 [==============================] - 26s 58ms/step - loss: 0.2687 - accuracy: 0.8991 - val_loss: 0.2816 - val_accuracy: 0.8955 - lr: 1.0000e-04\n",
            "Epoch 67/100\n",
            "456/456 [==============================] - 26s 57ms/step - loss: 0.2682 - accuracy: 0.8998 - val_loss: 0.2820 - val_accuracy: 0.8933 - lr: 1.0000e-04\n",
            "Epoch 68/100\n",
            "456/456 [==============================] - 26s 58ms/step - loss: 0.2704 - accuracy: 0.8995 - val_loss: 0.2813 - val_accuracy: 0.8949 - lr: 1.0000e-04\n",
            "Epoch 69/100\n",
            "456/456 [==============================] - 27s 58ms/step - loss: 0.2669 - accuracy: 0.9007 - val_loss: 0.2802 - val_accuracy: 0.8938 - lr: 1.0000e-04\n",
            "Epoch 70/100\n",
            "456/456 [==============================] - 27s 58ms/step - loss: 0.2670 - accuracy: 0.9008 - val_loss: 0.2818 - val_accuracy: 0.8925 - lr: 1.0000e-04\n",
            "Epoch 71/100\n",
            "456/456 [==============================] - 26s 58ms/step - loss: 0.2647 - accuracy: 0.8984 - val_loss: 0.2794 - val_accuracy: 0.8947 - lr: 1.0000e-04\n",
            "Epoch 72/100\n",
            "456/456 [==============================] - 26s 57ms/step - loss: 0.2645 - accuracy: 0.8999 - val_loss: 0.2810 - val_accuracy: 0.8955 - lr: 1.0000e-04\n",
            "Epoch 73/100\n",
            "456/456 [==============================] - 26s 57ms/step - loss: 0.2663 - accuracy: 0.8994 - val_loss: 0.2805 - val_accuracy: 0.8925 - lr: 1.0000e-04\n",
            "Epoch 74/100\n",
            "456/456 [==============================] - 26s 57ms/step - loss: 0.2643 - accuracy: 0.8999 - val_loss: 0.2780 - val_accuracy: 0.8960 - lr: 1.0000e-04\n",
            "Epoch 75/100\n",
            "456/456 [==============================] - 26s 57ms/step - loss: 0.2656 - accuracy: 0.8974 - val_loss: 0.2817 - val_accuracy: 0.8941 - lr: 1.0000e-04\n",
            "Epoch 76/100\n",
            "456/456 [==============================] - 26s 58ms/step - loss: 0.2647 - accuracy: 0.8992 - val_loss: 0.2809 - val_accuracy: 0.8938 - lr: 1.0000e-04\n",
            "Epoch 77/100\n",
            "456/456 [==============================] - 27s 58ms/step - loss: 0.2643 - accuracy: 0.8998 - val_loss: 0.2797 - val_accuracy: 0.8941 - lr: 1.0000e-04\n",
            "Epoch 78/100\n",
            "456/456 [==============================] - 26s 58ms/step - loss: 0.2626 - accuracy: 0.9003 - val_loss: 0.2781 - val_accuracy: 0.8952 - lr: 1.0000e-04\n",
            "Epoch 79/100\n",
            "456/456 [==============================] - 27s 58ms/step - loss: 0.2630 - accuracy: 0.8994 - val_loss: 0.2807 - val_accuracy: 0.8938 - lr: 1.0000e-04\n",
            "Epoch 80/100\n",
            "456/456 [==============================] - 26s 57ms/step - loss: 0.2609 - accuracy: 0.8996 - val_loss: 0.2747 - val_accuracy: 0.8960 - lr: 1.0000e-04\n",
            "Epoch 81/100\n",
            "456/456 [==============================] - 901s 2s/step - loss: 0.2615 - accuracy: 0.9014 - val_loss: 0.2767 - val_accuracy: 0.8949 - lr: 1.0000e-04\n",
            "Epoch 82/100\n",
            "456/456 [==============================] - 12s 26ms/step - loss: 0.2609 - accuracy: 0.9029 - val_loss: 0.2762 - val_accuracy: 0.8955 - lr: 1.0000e-04\n",
            "Epoch 83/100\n",
            "456/456 [==============================] - 7s 16ms/step - loss: 0.2599 - accuracy: 0.9010 - val_loss: 0.2797 - val_accuracy: 0.8933 - lr: 1.0000e-04\n",
            "Epoch 84/100\n",
            "456/456 [==============================] - 8s 16ms/step - loss: 0.2607 - accuracy: 0.9012 - val_loss: 0.2755 - val_accuracy: 0.8968 - lr: 1.0000e-04\n",
            "Epoch 85/100\n",
            "456/456 [==============================] - 8s 17ms/step - loss: 0.2620 - accuracy: 0.9000 - val_loss: 0.2786 - val_accuracy: 0.8936 - lr: 1.0000e-04\n",
            "Epoch 86/100\n",
            "456/456 [==============================] - 7s 16ms/step - loss: 0.2592 - accuracy: 0.9024 - val_loss: 0.2777 - val_accuracy: 0.8974 - lr: 1.0000e-04\n",
            "Epoch 87/100\n",
            "456/456 [==============================] - 9s 19ms/step - loss: 0.2617 - accuracy: 0.8994 - val_loss: 0.2749 - val_accuracy: 0.8971 - lr: 1.0000e-04\n",
            "Epoch 88/100\n",
            "456/456 [==============================] - 13s 28ms/step - loss: 0.2593 - accuracy: 0.9011 - val_loss: 0.2764 - val_accuracy: 0.8963 - lr: 1.0000e-04\n",
            "Epoch 89/100\n",
            "456/456 [==============================] - 9s 20ms/step - loss: 0.2594 - accuracy: 0.9009 - val_loss: 0.2781 - val_accuracy: 0.8949 - lr: 1.0000e-04\n",
            "Epoch 90/100\n",
            "456/456 [==============================] - 10s 22ms/step - loss: 0.2590 - accuracy: 0.9007 - val_loss: 0.2805 - val_accuracy: 0.8930 - lr: 1.0000e-04\n",
            "Epoch 91/100\n",
            "456/456 [==============================] - 11s 24ms/step - loss: 0.2537 - accuracy: 0.9035 - val_loss: 0.2730 - val_accuracy: 0.8974 - lr: 1.0000e-05\n",
            "Epoch 92/100\n",
            "456/456 [==============================] - 10s 21ms/step - loss: 0.2538 - accuracy: 0.9033 - val_loss: 0.2723 - val_accuracy: 0.8979 - lr: 1.0000e-05\n",
            "Epoch 93/100\n",
            "456/456 [==============================] - 9s 20ms/step - loss: 0.2516 - accuracy: 0.9040 - val_loss: 0.2719 - val_accuracy: 0.8990 - lr: 1.0000e-05\n",
            "Epoch 94/100\n",
            "456/456 [==============================] - 9s 19ms/step - loss: 0.2530 - accuracy: 0.9029 - val_loss: 0.2725 - val_accuracy: 0.8968 - lr: 1.0000e-05\n",
            "Epoch 95/100\n",
            "456/456 [==============================] - 9s 19ms/step - loss: 0.2531 - accuracy: 0.9036 - val_loss: 0.2713 - val_accuracy: 0.8977 - lr: 1.0000e-05\n",
            "Epoch 96/100\n",
            "456/456 [==============================] - 9s 19ms/step - loss: 0.2531 - accuracy: 0.9029 - val_loss: 0.2718 - val_accuracy: 0.8977 - lr: 1.0000e-05\n",
            "Epoch 97/100\n",
            "456/456 [==============================] - 9s 20ms/step - loss: 0.2528 - accuracy: 0.9033 - val_loss: 0.2713 - val_accuracy: 0.8988 - lr: 1.0000e-05\n",
            "Epoch 98/100\n",
            "456/456 [==============================] - 9s 19ms/step - loss: 0.2522 - accuracy: 0.9033 - val_loss: 0.2712 - val_accuracy: 0.8974 - lr: 1.0000e-05\n",
            "Epoch 99/100\n",
            "456/456 [==============================] - 9s 19ms/step - loss: 0.2528 - accuracy: 0.9036 - val_loss: 0.2717 - val_accuracy: 0.8977 - lr: 1.0000e-05\n",
            "Epoch 100/100\n",
            "456/456 [==============================] - 10s 22ms/step - loss: 0.2523 - accuracy: 0.9039 - val_loss: 0.2715 - val_accuracy: 0.8977 - lr: 1.0000e-05\n"
          ]
        }
      ],
      "source": [
        "batch_size = 32\n",
        "epochs = 100\n",
        "\n",
        "history = model_lstm.fit(\n",
        "    x_train,\n",
        "    y_train,\n",
        "    validation_split=0.2,\n",
        "    batch_size=batch_size,\n",
        "    epochs=epochs,\n",
        "    callbacks=[\n",
        "        tf.keras.callbacks.ReduceLROnPlateau()\n",
        "    ]\n",
        ")"
      ]
    },
    {
      "cell_type": "code",
      "execution_count": 9,
      "metadata": {
        "id": "LYiTRGr40g0n"
      },
      "outputs": [
        {
          "name": "stdout",
          "output_type": "stream",
          "text": [
            "190/190 [==============================] - 7s 7ms/step\n"
          ]
        },
        {
          "data": {
            "image/png": "[encoded data removed]",
            "text/plain": [
              "<Figure size 1500x800 with 2 Axes>"
            ]
          },
          "metadata": {},
          "output_type": "display_data"
        }
      ],
      "source": [
        "# Confusion matrix for LSTM model\n",
        "from sklearn.metrics import confusion_matrix\n",
        "import matplotlib.pyplot as plt\n",
        "import seaborn as sns\n",
        "y_true = np.array(y_test)\n",
        "y_pred_lstm = np.argmax(model_lstm.predict(x_test), axis=-1)\n",
        "cm_lstm = confusion_matrix(y_true, y_pred_lstm)\n",
        "plt.figure(figsize = (15,8))\n",
        "sns.heatmap(cm_lstm, annot=True, fmt='g', cmap='gist_heat',cbar=True)\n",
        "plt.xlabel(\"Predicted\")\n",
        "plt.ylabel(\"Actual\")\n",
        "plt.title(\"Confusion Matrix for LSTM model\")\n",
        "plt.show()"
      ]
    }
  ],
  "metadata": {
    "colab": {
      "provenance": []
    },
    "kernelspec": {
      "display_name": "Python 3",
      "name": "python3"
    },
    "language_info": {
      "codemirror_mode": {
        "name": "ipython",
        "version": 3
      },
      "file_extension": ".py",
      "mimetype": "text/x-python",
      "name": "python",
      "nbconvert_exporter": "python",
      "pygments_lexer": "ipython3",
      "version": "3.7.0"
    }
  },
  "nbformat": 4,
  "nbformat_minor": 0
}
